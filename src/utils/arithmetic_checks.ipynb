{
 "cells": [
  {
   "cell_type": "code",
   "execution_count": 1,
   "metadata": {
    "pycharm": {
     "name": "#%%\n"
    }
   },
   "outputs": [],
   "source": [
    "import numpy as np\n",
    "import math\n",
    "import torch\n",
    "import torch.nn as nn\n",
    "import matplotlib.pyplot as plt\n",
    "torch.set_printoptions(precision=5)"
   ]
  },
  {
   "cell_type": "markdown",
   "metadata": {},
   "source": [
    "### Matlab Bessel to Pytorch"
   ]
  },
  {
   "cell_type": "markdown",
   "metadata": {},
   "source": [
    "Modified Bessel $I$\n",
    "\n",
    "$$\n",
    "\\sum_{m=0}^{\\infty} \\frac{1}{\\Gamma(m+1) \\Gamma(m+\\alpha+1)}\\left(\\frac{x}{2}\\right)^{2 m+\\alpha}\n",
    "$$\n",
    "\n",
    "\n",
    "\n",
    "Log in Matlab\n",
    "```\n",
    "function logI = myModifiedBessel(a,x,order)\n",
    "\n",
    "order = 0:order;\n",
    "\n",
    "q = -gammaln(order+1) - gammaln(order+a+1) + (2*order+a) * log(x/2);\n",
    "\n",
    "logI = log(sum(exp(q-max(q)))) + max(q);\n",
    "\n",
    "```"
   ]
  },
  {
   "cell_type": "markdown",
   "metadata": {},
   "source": [
    "##### Pytorch/Python"
   ]
  },
  {
   "cell_type": "code",
   "execution_count": 8,
   "metadata": {},
   "outputs": [
    {
     "data": {
      "text/plain": [
       "[4, 3, 2, 1]"
      ]
     },
     "execution_count": 8,
     "metadata": {},
     "output_type": "execute_result"
    }
   ],
   "source": [
    "list(range(5-1, 0, -1))"
   ]
  },
  {
   "cell_type": "code",
   "execution_count": 7,
   "metadata": {},
   "outputs": [
    {
     "data": {
      "text/plain": [
       "[1, 2, 3, 4, 5, 6, 7, 8, 9]"
      ]
     },
     "execution_count": 7,
     "metadata": {},
     "output_type": "execute_result"
    }
   ],
   "source": [
    "list(range(1,10))"
   ]
  },
  {
   "cell_type": "code",
   "execution_count": 39,
   "metadata": {},
   "outputs": [
    {
     "data": {
      "text/plain": [
       "array([0, 3, 4, 3])"
      ]
     },
     "execution_count": 39,
     "metadata": {},
     "output_type": "execute_result"
    }
   ],
   "source": [
    "a = np.array([0,3,4])\n",
    "b = np.array([3])\n",
    "a = np.concatenate((a,b))\n",
    "a"
   ]
  },
  {
   "cell_type": "code",
   "execution_count": 42,
   "metadata": {},
   "outputs": [
    {
     "name": "stdout",
     "output_type": "stream",
     "text": [
      "tensor(0.60760444402694702148)\n",
      "tensor(0.60760444402694702148)\n",
      "tensor(0.60760444402694702148)\n"
     ]
    },
    {
     "data": {
      "image/png": "[encoded data removed]",
      "text/plain": [
       "<Figure size 640x480 with 1 Axes>"
      ]
     },
     "metadata": {},
     "output_type": "display_data"
    }
   ],
   "source": [
    "a, b, kappa = torch.tensor(1/2), torch.tensor(3/2), torch.tensor(1.5)\n",
    "T = 10\n",
    "arr = np.zeros(T)\n",
    "for prec in range(T):\n",
    "    n = torch.arange(prec)\n",
    "    inner = torch.lgamma(a+n) + torch.lgamma(b) - torch.lgamma(a) - torch.lgamma(b+n) \\\n",
    "        + n * torch.log(kappa) - torch.lgamma(n+torch.tensor(1))\n",
    "\n",
    "    out = np.array(torch.logsumexp(inner,dim=0))\n",
    "    arr[prec] = out\n",
    "    \n",
    "plt.plot(arr)\n",
    "print(torch.logsumexp(inner, dim=0))\n",
    "print(lsum(inner))\n",
    "print(torch.log(torch.sum(torch.exp(inner))))"
   ]
  },
  {
   "cell_type": "code",
   "execution_count": null,
   "metadata": {},
   "outputs": [],
   "source": [
    "def logI(a,x,order):\n",
    "    order_v = np.arange(0,order+1)\n",
    "    \n",
    "    \n",
    "    \n",
    "    logI_bessel = torch.\n",
    "    \n",
    "    return logI_bessel\n"
   ]
  },
  {
   "cell_type": "code",
   "execution_count": 2,
   "metadata": {},
   "outputs": [
    {
     "name": "stdout",
     "output_type": "stream",
     "text": [
      "tensor(3.1416)\n"
     ]
    }
   ],
   "source": [
    "a1 = torch.tensor(np.pi)\n",
    "a2 = torch.tensor(math.pi)\n"
   ]
  },
  {
   "cell_type": "code",
   "execution_count": 17,
   "metadata": {},
   "outputs": [
    {
     "name": "stdout",
     "output_type": "stream",
     "text": [
      "tensor(2.4102) tensor(0.8570)\n"
     ]
    }
   ],
   "source": [
    "p = 3\n",
    "\n",
    "\n",
    "b1 = torch.log(torch.tensor(2*np.pi**(p/2)))\n",
    "b2 = torch.log(torch.tensor(3/4*np.pi))\n",
    "print(b1,b2)"
   ]
  },
  {
   "cell_type": "code",
   "execution_count": 78,
   "metadata": {},
   "outputs": [],
   "source": [
    "class WatsonDistribution(nn.Module):\n",
    "    \"\"\"\n",
    "    Multivariate Watson distribution class\n",
    "    \"\"\"\n",
    "    def __init__(self,p, para_init=None):\n",
    "        super().__init__()\n",
    "        self.p = p\n",
    "        self.mu = nn.Parameter(torch.ones(3))\n",
    "        self.kappa = nn.Parameter(torch.rand(self.p,self.p))\n",
    "        \n",
    "\n",
    "W = WatsonDistribution(p=3)"
   ]
  },
  {
   "cell_type": "code",
   "execution_count": 82,
   "metadata": {},
   "outputs": [],
   "source": [
    "W.state_dict()['mu'] *= 3"
   ]
  },
  {
   "cell_type": "code",
   "execution_count": 83,
   "metadata": {},
   "outputs": [
    {
     "data": {
      "text/plain": [
       "OrderedDict([('mu', tensor([3., 3., 3.])),\n",
       "             ('kappa',\n",
       "              tensor([[0.2341, 0.1961, 0.5224],\n",
       "                      [0.1311, 0.9199, 0.1865],\n",
       "                      [0.9313, 0.2443, 0.9681]]))])"
      ]
     },
     "execution_count": 83,
     "metadata": {},
     "output_type": "execute_result"
    }
   ],
   "source": [
    "W.state_dict()"
   ]
  },
  {
   "cell_type": "code",
   "execution_count": 56,
   "metadata": {},
   "outputs": [
    {
     "data": {
      "text/plain": [
       "tensor([39, 39, 39])"
      ]
     },
     "execution_count": 56,
     "metadata": {},
     "output_type": "execute_result"
    }
   ],
   "source": [
    "x = torch.tensor([3,3,3])\n",
    "A = torch.tensor([[1,1,1],[2,2,2],[10,10,10]])\n",
    "torch.matmul(x,A)"
   ]
  },
  {
   "cell_type": "code",
   "execution_count": 74,
   "metadata": {},
   "outputs": [
    {
     "data": {
      "text/plain": [
       "<bound method Parameter.__repr__ of Parameter containing:\n",
       "tensor([[1., 1., 1.],\n",
       "        [1., 1., 1.],\n",
       "        [1., 1., 1.]], requires_grad=True)>"
      ]
     },
     "execution_count": 74,
     "metadata": {},
     "output_type": "execute_result"
    }
   ],
   "source": [
    "mu = nn.Parameter(torch.ones(3,3))\n",
    "mu.__repr__"
   ]
  },
  {
   "cell_type": "code",
   "execution_count": 90,
   "metadata": {},
   "outputs": [
    {
     "data": {
      "text/plain": [
       "tensor([[ 1., -1.,  1., -1.,  1., -1.,  1., -1.,  1., -1.],\n",
       "        [ 0.,  0.,  0.,  0.,  0.,  0.,  0.,  0.,  0.,  0.],\n",
       "        [ 0.,  0.,  0.,  0.,  0.,  0.,  0.,  0.,  0.,  0.]])"
      ]
     },
     "execution_count": 90,
     "metadata": {},
     "output_type": "execute_result"
    }
   ],
   "source": [
    "K = 10\n",
    "p=3\n",
    "mu = torch.zeros(p,K)\n",
    "for j in range(K):\n",
    "        val = 1 if j % 2 == 0 else -1\n",
    "        mu[(j*int(p/K)),j] = val\n",
    "mu"
   ]
  },
  {
   "cell_type": "code",
   "execution_count": 92,
   "metadata": {},
   "outputs": [
    {
     "data": {
      "text/plain": [
       "tensor([0.1000, 0.1000, 0.1000, 0.1000, 0.1000, 0.1000, 0.1000, 0.1000, 0.1000,\n",
       "        0.1000])"
      ]
     },
     "execution_count": 92,
     "metadata": {},
     "output_type": "execute_result"
    }
   ],
   "source": [
    "torch.ones(K)*1/K"
   ]
  },
  {
   "cell_type": "code",
   "execution_count": 190,
   "metadata": {},
   "outputs": [
    {
     "name": "stdout",
     "output_type": "stream",
     "text": [
      "tensor(1.)\n",
      "tensor([0.4365, 0.6558, 0.0900, 0.2037, 0.5743])\n",
      "tensor(1.)\n"
     ]
    }
   ],
   "source": [
    "v = torch.rand(5)\n",
    "print(torch.linalg.norm(v/torch.linalg.norm(v,dim=0)))\n",
    "print(v/torch.linalg.norm(v,dim=0))\n",
    "print(torch.linalg.norm(nn.functional.normalize(v,dim=0)))"
   ]
  },
  {
   "cell_type": "code",
   "execution_count": 201,
   "metadata": {},
   "outputs": [
    {
     "name": "stdout",
     "output_type": "stream",
     "text": [
      "-------------------------------------------------------  ------------  ------------  ------------  ------------  ------------  ------------  \n",
      "                                                   Name    Self CPU %      Self CPU   CPU total %     CPU total  CPU time avg    # of Calls  \n",
      "-------------------------------------------------------  ------------  ------------  ------------  ------------  ------------  ------------  \n",
      "                                           LogBackward0        49.66%     291.000us        53.58%     314.000us     314.000us             1  \n",
      "                                              aten::log         8.02%      47.000us         8.02%      47.000us      47.000us             1  \n",
      "                                    aten::empty_strided         5.12%      30.000us         5.12%      30.000us      30.000us             1  \n",
      "                                         aten::softplus         4.95%      29.000us         4.95%      29.000us      29.000us             1  \n",
      "                                aten::softplus_backward         4.27%      25.000us         4.27%      25.000us      25.000us             1  \n",
      "                                                 detach         4.10%      24.000us         4.10%      24.000us      12.000us             2  \n",
      "                                              aten::div         3.92%      23.000us         3.92%      23.000us      23.000us             1  \n",
      "                                         aten::uniform_         3.07%      18.000us         3.07%      18.000us      18.000us             1  \n",
      "autograd::engine::evaluate_function: SoftplusBackwar...         2.39%      14.000us         8.36%      49.000us      49.000us             1  \n",
      "      autograd::engine::evaluate_function: LogBackward0         2.39%      14.000us        55.97%     328.000us     328.000us             1  \n",
      "                                             aten::rand         2.22%      13.000us         7.17%      42.000us      42.000us             1  \n",
      "                                            aten::empty         1.88%      11.000us         1.88%      11.000us      11.000us             1  \n",
      "                                      SoftplusBackward0         1.71%      10.000us         5.97%      35.000us      35.000us             1  \n",
      "                                           aten::detach         1.54%       9.000us         5.63%      33.000us      16.500us             2  \n",
      "                                       aten::empty_like         1.54%       9.000us         6.66%      39.000us      39.000us             1  \n",
      "                                        aten::ones_like         1.37%       8.000us         8.36%      49.000us      49.000us             1  \n",
      "                        torch::autograd::AccumulateGrad         1.02%       6.000us         3.07%      18.000us      18.000us             1  \n",
      "autograd::engine::evaluate_function: torch::autograd...         0.51%       3.000us         3.58%      21.000us      21.000us             1  \n",
      "                                            aten::fill_         0.34%       2.000us         0.34%       2.000us       2.000us             1  \n",
      "-------------------------------------------------------  ------------  ------------  ------------  ------------  ------------  ------------  \n",
      "Self CPU time total: 586.000us\n",
      "\n"
     ]
    }
   ],
   "source": [
    "softplus = nn.Softplus()\n",
    "\n",
    "\n",
    "with torch.autograd.profiler.profile() as prof:\n",
    "\n",
    "    y = softplus(torch.log(nn.Parameter(torch.rand(1))))\n",
    "    y.backward()\n",
    "    \n",
    "print(prof.key_averages().table(sort_by=\"self_cpu_time_total\"))"
   ]
  },
  {
   "cell_type": "code",
   "execution_count": 21,
   "metadata": {},
   "outputs": [],
   "source": [
    "class LogWatson(nn.Module):\n",
    "    \"\"\"\n",
    "    Logarithmic Multivariate Watson distribution class\n",
    "    \"\"\"\n",
    "    def __init__(self,p, para_init=None):\n",
    "        super().__init__()\n",
    "\n",
    "        self.p = p\n",
    "        self.mu = nn.Parameter(torch.ones(self.p))\n",
    "        self.kappa = nn.Parameter(torch.tensor([1.]))\n",
    "\n",
    "        if para_init is not None:\n",
    "            print('Custom Initilization of')\n",
    "            #for special initialization of patamters\n",
    "\n",
    "            \n",
    "    def log_kummer(self, a, c, kappa):\n",
    "        # inspiration form Morten Bessel function\n",
    "        # Gamma based? see Mardia A.18\n",
    "        logKum = torch.log(torch.tensor(0.5))\n",
    "        return logKum\n",
    "\n",
    "    def log_norm_constant(self):\n",
    "        logC =  torch.lgamma(torch.tensor([self.p/2])) \\\n",
    "               - torch.log(torch.tensor(2 * np.pi**(self.p/2))) \\\n",
    "               - self.log_kummer(0.5, self.p/2, self.kappa)\n",
    "\n",
    "        return logC\n",
    "\n",
    "    def log_pdf(self,x):\n",
    "        # Why Transpose in the end? see LL_Torch_Watson\n",
    "        logpdf = self.log_norm_constant() + self.kappa * (self.mu @ x)**2\n",
    "        return logpdf\n",
    "\n",
    "    def forward(self,X):\n",
    "        return self.log_pdf(X)\n",
    "    \n",
    "m = [LogWatson(p=3)]*10\n",
    "\n",
    "# Watson = nn.ModuleList([w(p=3) for w in m])\n",
    "# for Wat in Watson:\n",
    "#     print(Wat.mu)\n",
    "gen = m[0].parameters()"
   ]
  },
  {
   "cell_type": "code",
   "execution_count": 32,
   "metadata": {},
   "outputs": [
    {
     "ename": "StopIteration",
     "evalue": "",
     "output_type": "error",
     "traceback": [
      "\u001b[0;31m---------------------------------------------------------------------------\u001b[0m",
      "\u001b[0;31mStopIteration\u001b[0m                             Traceback (most recent call last)",
      "Cell \u001b[0;32mIn [32], line 1\u001b[0m\n\u001b[0;32m----> 1\u001b[0m \u001b[38;5;28;43mnext\u001b[39;49m\u001b[43m(\u001b[49m\u001b[38;5;28;43miter\u001b[39;49m\u001b[43m(\u001b[49m\u001b[43mgen\u001b[49m\u001b[43m)\u001b[49m\u001b[43m)\u001b[49m\n",
      "\u001b[0;31mStopIteration\u001b[0m: "
     ]
    }
   ],
   "source": [
    "next(iter(gen))"
   ]
  },
  {
   "cell_type": "code",
   "execution_count": 177,
   "metadata": {},
   "outputs": [
    {
     "name": "stdout",
     "output_type": "stream",
     "text": [
      "139674543406864\n",
      "139674543402544\n",
      "139674543399856\n",
      "139674543391408\n",
      "139674543405088\n"
     ]
    }
   ],
   "source": [
    "m = [LogWatson(p=3) for _ in range(5)]\n",
    "\n",
    "for w in m:\n",
    "    print(id(w))"
   ]
  },
  {
   "cell_type": "code",
   "execution_count": 154,
   "metadata": {},
   "outputs": [
    {
     "ename": "RuntimeError",
     "evalue": "mat1 and mat2 shapes cannot be multiplied (1x3 and 2x3)",
     "output_type": "error",
     "traceback": [
      "\u001b[0;31m---------------------------------------------------------------------------\u001b[0m",
      "\u001b[0;31mRuntimeError\u001b[0m                              Traceback (most recent call last)",
      "Cell \u001b[0;32mIn [154], line 3\u001b[0m\n\u001b[1;32m      1\u001b[0m W1 \u001b[38;5;241m=\u001b[39m LogWatsonMultivariate(p\u001b[38;5;241m=\u001b[39m\u001b[38;5;241m3\u001b[39m)\n\u001b[0;32m----> 3\u001b[0m \u001b[43mW1\u001b[49m\u001b[38;5;241;43m.\u001b[39;49m\u001b[43mlog_pdf\u001b[49m\u001b[43m(\u001b[49m\u001b[43mtorch\u001b[49m\u001b[38;5;241;43m.\u001b[39;49m\u001b[43mtensor\u001b[49m\u001b[43m(\u001b[49m\u001b[43m[\u001b[49m\u001b[43m[\u001b[49m\u001b[38;5;241;43m1.\u001b[39;49m\u001b[43m,\u001b[49m\u001b[38;5;241;43m2.\u001b[39;49m\u001b[43m,\u001b[49m\u001b[38;5;241;43m3.\u001b[39;49m\u001b[43m]\u001b[49m\u001b[43m,\u001b[49m\u001b[43m[\u001b[49m\u001b[38;5;241;43m4.\u001b[39;49m\u001b[43m,\u001b[49m\u001b[38;5;241;43m4.\u001b[39;49m\u001b[43m,\u001b[49m\u001b[38;5;241;43m4.\u001b[39;49m\u001b[43m]\u001b[49m\u001b[43m]\u001b[49m\u001b[43m)\u001b[49m\u001b[43m)\u001b[49m\n",
      "Cell \u001b[0;32mIn [153], line 32\u001b[0m, in \u001b[0;36mLogWatsonMultivariate.log_pdf\u001b[0;34m(self, x)\u001b[0m\n\u001b[1;32m     30\u001b[0m \u001b[38;5;28;01mdef\u001b[39;00m \u001b[38;5;21mlog_pdf\u001b[39m(\u001b[38;5;28mself\u001b[39m,x):\n\u001b[1;32m     31\u001b[0m     \u001b[38;5;66;03m# Why Transpose in the end? see LL_Torch_Watson\u001b[39;00m\n\u001b[0;32m---> 32\u001b[0m     logpdf \u001b[38;5;241m=\u001b[39m \u001b[38;5;28mself\u001b[39m\u001b[38;5;241m.\u001b[39mlog_norm_constant() \u001b[38;5;241m+\u001b[39m \u001b[38;5;28mself\u001b[39m\u001b[38;5;241m.\u001b[39mkappa \u001b[38;5;241m*\u001b[39m (\u001b[38;5;28;43mself\u001b[39;49m\u001b[38;5;241;43m.\u001b[39;49m\u001b[43mmu\u001b[49m\u001b[43m \u001b[49m\u001b[38;5;241;43m@\u001b[39;49m\u001b[43m \u001b[49m\u001b[43mx\u001b[49m)\u001b[38;5;241m*\u001b[39m\u001b[38;5;241m*\u001b[39m\u001b[38;5;241m2\u001b[39m\n\u001b[1;32m     33\u001b[0m     \u001b[38;5;28;01mreturn\u001b[39;00m logpdf\n",
      "\u001b[0;31mRuntimeError\u001b[0m: mat1 and mat2 shapes cannot be multiplied (1x3 and 2x3)"
     ]
    }
   ],
   "source": [
    "W1 = LogWatsonMultivariate(p=3)\n",
    "\n",
    "W1.log_pdf(torch.tensor([[1.,2.,3.]]))"
   ]
  },
  {
   "cell_type": "code",
   "execution_count": 7,
   "metadata": {},
   "outputs": [
    {
     "name": "stderr",
     "output_type": "stream",
     "text": [
      "/tmp/ipykernel_10483/4119580291.py:5: UserWarning: The use of `x.T` on tensors of dimension other than 2 to reverse their shape is deprecated and it will throw an error in a future release. Consider `x.mT` to transpose batches of matricesor `x.permute(*torch.arange(x.ndim - 1, -1, -1))` to reverse the dimensions of a tensor. (Triggered internally at  ../aten/src/ATen/native/TensorShape.cpp:2981.)\n",
      "  torch.matmul(mu,X.T).T\n"
     ]
    },
    {
     "data": {
      "text/plain": [
       "tensor([ 6., 12., 15., 21.])"
      ]
     },
     "execution_count": 7,
     "metadata": {},
     "output_type": "execute_result"
    }
   ],
   "source": [
    "mu = torch.Tensor([1.,1.,1.])\n",
    "X = torch.Tensor([[2.,2.,2.],[4.,4.,4.],[5.,5.,5.],[7.,7.,7.]])\n",
    "# [6, 12, 15, 21]\n",
    "\n",
    "torch.matmul(mu,X.T).T"
   ]
  },
  {
   "cell_type": "code",
   "execution_count": 11,
   "metadata": {},
   "outputs": [
    {
     "data": {
      "text/plain": [
       "tensor([[0.1000, 0.0000, 0.0000, 0.0000, 0.0000, 0.0000, 0.0000, 0.0000, 0.0000,\n",
       "         0.0000],\n",
       "        [0.0000, 0.1000, 0.0000, 0.0000, 0.0000, 0.0000, 0.0000, 0.0000, 0.0000,\n",
       "         0.0000],\n",
       "        [0.0000, 0.0000, 0.1000, 0.0000, 0.0000, 0.0000, 0.0000, 0.0000, 0.0000,\n",
       "         0.0000],\n",
       "        [0.0000, 0.0000, 0.0000, 0.1000, 0.0000, 0.0000, 0.0000, 0.0000, 0.0000,\n",
       "         0.0000],\n",
       "        [0.0000, 0.0000, 0.0000, 0.0000, 0.1000, 0.0000, 0.0000, 0.0000, 0.0000,\n",
       "         0.0000],\n",
       "        [0.0000, 0.0000, 0.0000, 0.0000, 0.0000, 0.1000, 0.0000, 0.0000, 0.0000,\n",
       "         0.0000],\n",
       "        [0.0000, 0.0000, 0.0000, 0.0000, 0.0000, 0.0000, 0.1000, 0.0000, 0.0000,\n",
       "         0.0000],\n",
       "        [0.0000, 0.0000, 0.0000, 0.0000, 0.0000, 0.0000, 0.0000, 0.1000, 0.0000,\n",
       "         0.0000],\n",
       "        [0.0000, 0.0000, 0.0000, 0.0000, 0.0000, 0.0000, 0.0000, 0.0000, 0.1000,\n",
       "         0.0000],\n",
       "        [0.0000, 0.0000, 0.0000, 0.0000, 0.0000, 0.0000, 0.0000, 0.0000, 0.0000,\n",
       "         0.1000]])"
      ]
     },
     "execution_count": 11,
     "metadata": {},
     "output_type": "execute_result"
    }
   ],
   "source": [
    "torch.eye(10,10)/10"
   ]
  },
  {
   "cell_type": "code",
   "execution_count": 16,
   "metadata": {},
   "outputs": [
    {
     "name": "stdout",
     "output_type": "stream",
     "text": [
      "tensor([[0.2584, 0.0000, 0.0000],\n",
      "        [0.3535, 0.8070, 0.0000],\n",
      "        [0.4461, 0.8540, 0.8373]])\n",
      "---\n",
      "tensor([[0.2584, 0.3535, 0.4461],\n",
      "        [0.0000, 0.8070, 0.8540],\n",
      "        [0.0000, 0.0000, 0.8373]])\n",
      "---\n",
      "tensor([[0.0668, 0.0914, 0.1153],\n",
      "        [0.0914, 0.7763, 0.8470],\n",
      "        [0.1153, 0.8470, 1.6295]])\n"
     ]
    }
   ],
   "source": [
    "L = torch.tril(torch.rand(3,3))\n",
    "print(L)\n",
    "print('---')\n",
    "print(L.T)\n",
    "print('---')\n",
    "print(L@L.T)"
   ]
  },
  {
   "cell_type": "markdown",
   "metadata": {},
   "source": [
    "### LogSumExp test"
   ]
  },
  {
   "cell_type": "code",
   "execution_count": 150,
   "metadata": {},
   "outputs": [
    {
     "name": "stdout",
     "output_type": "stream",
     "text": [
      "tensor(9.37889480590820312500)\n",
      "tensor([7.76395654678344726562, 7.76422023773193359375, 7.76731348037719726562,\n",
      "        7.78229856491088867188, 7.76937866210937500000])\n"
     ]
    }
   ],
   "source": [
    "torch.set_printoptions(precision=20)\n",
    "\n",
    "def lsum(x):\n",
    "    return x.max() + torch.log(torch.exp(x-x.max()).sum())\n",
    "\n",
    "def LS(x):\n",
    "    return torch.logsumexp(x, dim=0)\n",
    "\n",
    "xv = torch.rand(1378,5)\n",
    "\n",
    "print(lsum(xv))\n",
    "print(LS(xv))"
   ]
  },
  {
   "cell_type": "markdown",
   "metadata": {},
   "source": [
    "### Torch Rock & Tril "
   ]
  },
  {
   "cell_type": "code",
   "execution_count": 50,
   "metadata": {},
   "outputs": [
    {
     "name": "stdout",
     "output_type": "stream",
     "text": [
      "Parameter containing:\n",
      "tensor([[0., 0., 0., 0.],\n",
      "        [1., 0., 0., 0.],\n",
      "        [1., 1., 0., 0.],\n",
      "        [1., 1., 1., 0.]], requires_grad=True)\n",
      "---\n",
      "tensor([[0., 0., 0., 0.],\n",
      "        [1., 0., 0., 0.],\n",
      "        [1., 1., 0., 0.],\n",
      "        [1., 1., 1., 0.]], grad_fn=<TrilBackward0>)\n"
     ]
    }
   ],
   "source": [
    "pL = nn.Parameter(torch.tril(torch.ones(4,4),-1))\n",
    "print(pL)\n",
    "print('---')\n",
    "print(torch.tril(pL,-1))"
   ]
  },
  {
   "cell_type": "code",
   "execution_count": 58,
   "metadata": {},
   "outputs": [
    {
     "data": {
      "text/plain": [
       "tensor([[0.8404, 0.0000, 0.0000, 0.0000],\n",
       "        [1.0000, 0.5550, 0.0000, 0.0000],\n",
       "        [1.0000, 1.0000, 0.5823, 0.0000],\n",
       "        [1.0000, 1.0000, 1.0000, 0.6025]])"
      ]
     },
     "execution_count": 58,
     "metadata": {},
     "output_type": "execute_result"
    }
   ],
   "source": [
    "torch.tril(torch.ones(4,4),-1) + torch.eye(4) * torch.rand(4)"
   ]
  },
  {
   "cell_type": "markdown",
   "metadata": {},
   "source": [
    "##### ACG multiplication check"
   ]
  },
  {
   "cell_type": "code",
   "execution_count": 10,
   "metadata": {},
   "outputs": [
    {
     "name": "stdout",
     "output_type": "stream",
     "text": [
      "X matrix: \n",
      " tensor([[1, 1, 2],\n",
      "        [1, 1, 1],\n",
      "        [1, 4, 0],\n",
      "        [1, 0, 2],\n",
      "        [2, 0, 0]])\n",
      "A matrix: \n",
      " tensor([[0, 0, 2],\n",
      "        [3, 7, 1],\n",
      "        [4, 0, 7]])\n"
     ]
    }
   ],
   "source": [
    "x = torch.randint(5,(5,3))\n",
    "A = torch.randint(10,(3,3))\n",
    "print(f'X matrix: \\n {x}')\n",
    "print(f'A matrix: \\n {A}')"
   ]
  },
  {
   "cell_type": "code",
   "execution_count": 35,
   "metadata": {},
   "outputs": [
    {
     "data": {
      "text/plain": [
       "tensor(253)"
      ]
     },
     "execution_count": 35,
     "metadata": {},
     "output_type": "execute_result"
    }
   ],
   "source": [
    "b = torch.tensor([2,3,4])\n",
    "b@A@b"
   ]
  },
  {
   "cell_type": "code",
   "execution_count": null,
   "metadata": {},
   "outputs": [],
   "source": [
    "# [11,7,17]"
   ]
  },
  {
   "cell_type": "code",
   "execution_count": 43,
   "metadata": {},
   "outputs": [
    {
     "data": {
      "text/plain": [
       "52"
      ]
     },
     "execution_count": 43,
     "metadata": {},
     "output_type": "execute_result"
    }
   ],
   "source": [
    "11+7+2*17"
   ]
  },
  {
   "cell_type": "code",
   "execution_count": 25,
   "metadata": {},
   "outputs": [
    {
     "data": {
      "text/plain": [
       "tensor([[11,  7, 17],\n",
       "        [ 7,  7, 10],\n",
       "        [12, 28,  6],\n",
       "        [ 8,  0, 16],\n",
       "        [ 0,  0,  4]])"
      ]
     },
     "execution_count": 25,
     "metadata": {},
     "output_type": "execute_result"
    }
   ],
   "source": [
    "x@A"
   ]
  },
  {
   "cell_type": "code",
   "execution_count": 59,
   "metadata": {},
   "outputs": [
    {
     "data": {
      "text/plain": [
       "tensor([[ 52,  35,  39,  45,  22],\n",
       "        [ 34,  24,  35,  27,  14],\n",
       "        [ 52,  46, 124,  24,  24],\n",
       "        [ 40,  24,   8,  40,  16],\n",
       "        [  8,   4,   0,   8,   0]])"
      ]
     },
     "execution_count": 59,
     "metadata": {},
     "output_type": "execute_result"
    }
   ],
   "source": []
  },
  {
   "cell_type": "code",
   "execution_count": 70,
   "metadata": {},
   "outputs": [
    {
     "data": {
      "text/plain": [
       "tensor([ 52,  24, 124,  40,   0])"
      ]
     },
     "execution_count": 70,
     "metadata": {},
     "output_type": "execute_result"
    }
   ],
   "source": [
    "torch.diag(x@A@x.T)"
   ]
  },
  {
   "cell_type": "code",
   "execution_count": 69,
   "metadata": {},
   "outputs": [
    {
     "data": {
      "text/plain": [
       "tensor([[ 6,  4,  5,  5,  2],\n",
       "        [ 4,  3,  5,  3,  2],\n",
       "        [ 5,  5, 17,  1,  2],\n",
       "        [ 5,  3,  1,  5,  2],\n",
       "        [ 2,  2,  2,  2,  4]])"
      ]
     },
     "execution_count": 69,
     "metadata": {},
     "output_type": "execute_result"
    }
   ],
   "source": [
    "x@x.T"
   ]
  },
  {
   "cell_type": "code",
   "execution_count": 86,
   "metadata": {},
   "outputs": [
    {
     "name": "stdout",
     "output_type": "stream",
     "text": [
      "tensor([8, 8, 3, 0, 9])\n",
      "tensor([80, 80, 30,  0, 90])\n"
     ]
    },
    {
     "data": {
      "text/plain": [
       "tensor([640, 640,  90,   0, 810])"
      ]
     },
     "execution_count": 86,
     "metadata": {},
     "output_type": "execute_result"
    }
   ],
   "source": [
    "g = torch.randint(10,(5,))\n",
    "b = torch.tensor(10)\n",
    "print(g)\n",
    "print(g*b)\n",
    "g*b*g"
   ]
  },
  {
   "cell_type": "code",
   "execution_count": 119,
   "metadata": {},
   "outputs": [
    {
     "data": {
      "text/plain": [
       "<matplotlib.collections.PathCollection at 0x7f00a37d0190>"
      ]
     },
     "execution_count": 119,
     "metadata": {},
     "output_type": "execute_result"
    },
    {
     "data": {
      "image/png": "[encoded data removed]",
      "text/plain": [
       "<Figure size 640x480 with 1 Axes>"
      ]
     },
     "metadata": {},
     "output_type": "display_data"
    }
   ],
   "source": [
    "phi = torch.arange(0, 2*np.pi, 0.01)\n",
    "phi = torch.rand(10000)\n",
    "x = torch.column_stack((torch.cos(phi),torch.sin(phi)))\n",
    "plt.scatter(x[:,0],x[:,1])\n",
    "\n"
   ]
  },
  {
   "cell_type": "code",
   "execution_count": 114,
   "metadata": {},
   "outputs": [
    {
     "data": {
      "text/plain": [
       "tensor([[1, 4],\n",
       "        [4, 1]])"
      ]
     },
     "execution_count": 114,
     "metadata": {},
     "output_type": "execute_result"
    }
   ],
   "source": [
    "torch.tensor([[1,4],[4,1]])"
   ]
  },
  {
   "cell_type": "markdown",
   "metadata": {},
   "source": [
    "### Plot of Softplus"
   ]
  },
  {
   "cell_type": "code",
   "execution_count": 5,
   "metadata": {},
   "outputs": [],
   "source": [
    "def softplus(x, beta):\n",
    "    return 1/beta * np.log(1 + np.exp(beta * x))"
   ]
  },
  {
   "cell_type": "code",
   "execution_count": 30,
   "metadata": {},
   "outputs": [
    {
     "data": {
      "image/png": "[encoded data removed]",
      "text/plain": [
       "<Figure size 640x480 with 1 Axes>"
      ]
     },
     "metadata": {},
     "output_type": "display_data"
    }
   ],
   "source": [
    "a = np.arange(-0.5,0.5,0.01)\n",
    "\n",
    "betas = np.arange(20,25)\n",
    "for beta in betas:\n",
    "    a_plus = softplus(a,beta=beta)\n",
    "\n",
    "    plt.plot(a,a_plus)"
   ]
  },
  {
   "cell_type": "code",
   "execution_count": 32,
   "metadata": {},
   "outputs": [
    {
     "data": {
      "text/plain": [
       "tensor([[1, 0, 0, 0],\n",
       "        [0, 2, 0, 0],\n",
       "        [0, 0, 3, 0],\n",
       "        [0, 0, 0, 4]])"
      ]
     },
     "execution_count": 32,
     "metadata": {},
     "output_type": "execute_result"
    }
   ],
   "source": [
    "torch.diagflat(torch.tensor([1,2,3,4]))"
   ]
  },
  {
   "cell_type": "markdown",
   "metadata": {},
   "source": [
    "### HMM -  Transition matrix"
   ]
  },
  {
   "cell_type": "code",
   "execution_count": 131,
   "metadata": {},
   "outputs": [
    {
     "name": "stdout",
     "output_type": "stream",
     "text": [
      "tensor([[0.22773, 0.38996, 0.19029, 0.19202],\n",
      "        [0.15257, 0.36770, 0.22159, 0.25814],\n",
      "        [0.17478, 0.17337, 0.27686, 0.37499],\n",
      "        [0.19668, 0.40920, 0.18205, 0.21207]])\n"
     ]
    },
    {
     "data": {
      "text/plain": [
       "tensor(1.)"
      ]
     },
     "execution_count": 131,
     "metadata": {},
     "output_type": "execute_result"
    }
   ],
   "source": [
    "a = torch.rand(4,4)+1\n",
    "\n",
    "an = torch.nn.functional.softmax(a,dim=1)\n",
    "print(an)\n",
    "an[0].sum()"
   ]
  },
  {
   "cell_type": "code",
   "execution_count": 22,
   "metadata": {},
   "outputs": [
    {
     "data": {
      "text/plain": [
       "[1, 2, 3, 4, 5, 6, 7, 8, 9]"
      ]
     },
     "execution_count": 22,
     "metadata": {},
     "output_type": "execute_result"
    }
   ],
   "source": [
    "list(range(1, 10))"
   ]
  },
  {
   "cell_type": "markdown",
   "metadata": {},
   "source": [
    "### $\\alpha$ - matrix"
   ]
  },
  {
   "cell_type": "markdown",
   "metadata": {},
   "source": [
    "### HMM forward"
   ]
  },
  {
   "cell_type": "code",
   "execution_count": 2,
   "metadata": {},
   "outputs": [
    {
     "name": "stdout",
     "output_type": "stream",
     "text": [
      "tensor([[0., 0.],\n",
      "        [0., 0.],\n",
      "        [0., 0.],\n",
      "        [0., 0.]])\n",
      "tensor([[[0., 0.],\n",
      "         [0., 0.],\n",
      "         [0., 0.],\n",
      "         [0., 0.]]])\n"
     ]
    }
   ],
   "source": [
    "num_subjects = 2\n",
    "seq_max = 8\n",
    "N = 4\n",
    "log_alpha = torch.zeros(num_subjects, seq_max, N)\n",
    "\n",
    "# time t=0\n",
    "\n",
    "b = log_alpha[:, 1, :].transpose(0,1)\n",
    "print(b)\n",
    "print(torch.reshape(b, (1,4,b.shape[1])))\n",
    "\n",
    "# # for time:  t = 1 -> seq_max\n",
    "# for t in range(1,seq_max):\n",
    "#     log_alpha[:, t, :] = self.emission_models_forward(X[:, t]) * (log_alpha[:, t-1, :] * "
   ]
  },
  {
   "cell_type": "code",
   "execution_count": 3,
   "metadata": {},
   "outputs": [
    {
     "name": "stdout",
     "output_type": "stream",
     "text": [
      "tensor([[1, 2, 3]])\n",
      "---------\n",
      "tensor([[1, 4, 2],\n",
      "        [3, 2, 1],\n",
      "        [5, 1, 3]])\n",
      "-------\n",
      "tensor([[[1],\n",
      "         [4],\n",
      "         [2]],\n",
      "\n",
      "        [[3],\n",
      "         [2],\n",
      "         [1]],\n",
      "\n",
      "        [[5],\n",
      "         [1],\n",
      "         [3]]])\n",
      "--alpha per state--\n",
      "tensor([[[1],\n",
      "         [2],\n",
      "         [3]]])\n",
      "---element sum--\n",
      "tensor([[[2],\n",
      "         [6],\n",
      "         [5]],\n",
      "\n",
      "        [[4],\n",
      "         [4],\n",
      "         [4]],\n",
      "\n",
      "        [[6],\n",
      "         [3],\n",
      "         [6]]])\n",
      "----output - logsumexp---\n",
      "tensor([[6.32656, 5.09861, 6.71774]])\n",
      "---- output - just sum check---\n",
      "tensor([[13, 12, 15]])\n"
     ]
    }
   ],
   "source": [
    "num_subjects = 1\n",
    "seq_max = 8\n",
    "N = 3\n",
    "\n",
    "\n",
    "transition = torch.randint(1,6,(N,N))\n",
    "\n",
    "\n",
    "def log_matmul(log_A, log_B):\n",
    "    \"\"\"\n",
    "    log_A : m x n\n",
    "    log_B : n x p\n",
    "    output : m x p matrix\n",
    "\n",
    "    Normally, a matrix multiplication\n",
    "    computes out_{i,j} = sum_k A_{i,k} x B_{k,j}\n",
    "\n",
    "    A log domain matrix multiplication\n",
    "    computes out_{i,j} = logsumexp_k log_A_{i,k} + log_B_{k,j}\n",
    "    \"\"\"\n",
    "    m = log_A.shape[0]\n",
    "    n = log_A.shape[1]\n",
    "    p = log_B.shape[1]\n",
    "\n",
    "    # log_A_expanded = torch.stack([log_A] * p, dim=2)\n",
    "    # log_B_expanded = torch.stack([log_B] * m, dim=0)\n",
    "    # fix for PyTorch > 1.5 by egaznep on Github:\n",
    "    log_A_expanded = torch.reshape(log_A, (m,n,1))\n",
    "    log_B_expanded = torch.reshape(log_B, (1,n,p))\n",
    "    print(log_A_expanded)\n",
    "    print('--alpha per state--')\n",
    "    print(log_B_expanded)\n",
    "    \n",
    "    elementwise_sum = log_A_expanded + log_B_expanded\n",
    "    print('---element sum--')\n",
    "    print(elementwise_sum)\n",
    "    out = torch.logsumexp(elementwise_sum, dim=1)\n",
    "    outsum = torch.sum(elementwise_sum, dim=1)\n",
    "    return out, outsum\n",
    "\n",
    "log_alpha = torch.ones(num_subjects, seq_max, N)\n",
    "t_alpha = log_alpha[:,0,:]\n",
    "t_alpha = torch.tensor([[1,2,3]])\n",
    "print(f'{t_alpha}')\n",
    "print('---------')\n",
    "print(transition)\n",
    "print('-------')\n",
    "outexp, outsum = log_matmul(transition, t_alpha.T)\n",
    "print('----output - logsumexp---')\n",
    "print(outexp.T)\n",
    "print('---- output - just sum check---')\n",
    "print(outsum.T)"
   ]
  },
  {
   "cell_type": "code",
   "execution_count": 8,
   "metadata": {},
   "outputs": [
    {
     "data": {
      "text/plain": [
       "tensor([[2, 5, 3],\n",
       "        [5, 4, 3],\n",
       "        [8, 4, 6]])"
      ]
     },
     "execution_count": 8,
     "metadata": {},
     "output_type": "execute_result"
    }
   ],
   "source": [
    "l = np.array([1,2,3])\n",
    "torch.tensor(l[:, np.newaxis]) + transition"
   ]
  },
  {
   "cell_type": "code",
   "execution_count": 57,
   "metadata": {},
   "outputs": [
    {
     "name": "stdout",
     "output_type": "stream",
     "text": [
      "Transition \n",
      "tensor([[1, 2, 3],\n",
      "        [2, 1, 3],\n",
      "        [2, 2, 2]])\n",
      "a_t: \n",
      " tensor([[7, 2, 5],\n",
      "        [5, 4, 5]])\n",
      "\n",
      " output l \n",
      "tensor([[[ 8,  9, 10],\n",
      "         [ 4,  3,  5],\n",
      "         [ 7,  7,  7]],\n",
      "\n",
      "        [[ 6,  7,  8],\n",
      "         [ 6,  5,  7],\n",
      "         [ 7,  7,  7]]])\n",
      "\n",
      " ------\n",
      "tensor([[10,  5,  7],\n",
      "        [ 8,  7,  7]])\n",
      "--indices state\n",
      "tensor([[2, 2, 0],\n",
      "        [2, 2, 0]])\n"
     ]
    }
   ],
   "source": [
    "#print(transition)\n",
    "a = torch.randint(1,8,(2, 5, 3))\n",
    "transition = torch.randint(1,4,(3,3))\n",
    "\n",
    "print(f'Transition \\n{transition}')\n",
    "print(f'a_t: \\n {a[:,0,:]}')\n",
    "a_t = a[:,0,:,None]\n",
    "\n",
    "l = a_t + transition\n",
    "\n",
    "print(f'\\n output l \\n{l}')\n",
    "\n",
    "maxv, maxarg = torch.max(l,dim=2)\n",
    "print('\\n ------')\n",
    "print(maxv)\n",
    "print('--indices state')\n",
    "print(maxarg)"
   ]
  },
  {
   "cell_type": "code",
   "execution_count": 101,
   "metadata": {},
   "outputs": [
    {
     "data": {
      "text/plain": [
       "tensor([[1.43650, 1.12250, 1.23340],\n",
       "        [1.27000, 1.35010, 1.24030]])"
      ]
     },
     "execution_count": 101,
     "metadata": {},
     "output_type": "execute_result"
    }
   ],
   "source": [
    "x = torch.tensor([[0.4365, 0.1225, 0.2334],\n",
    "        [0.2700, 0.3501, 0.2403]])\n",
    "c = torch.ones(x.shape[1])\n",
    "x + c"
   ]
  },
  {
   "cell_type": "code",
   "execution_count": 139,
   "metadata": {},
   "outputs": [
    {
     "name": "stdout",
     "output_type": "stream",
     "text": [
      "tensor([[1, 1, 2],\n",
      "        [4, 3, 3],\n",
      "        [3, 4, 1]])\n",
      "tensor([[0],\n",
      "        [0],\n",
      "        [1],\n",
      "        [3],\n",
      "        [2],\n",
      "        [2],\n",
      "        [2],\n",
      "        [3],\n",
      "        [0]])\n"
     ]
    }
   ],
   "source": [
    "a = torch.randint(5,(3,3))\n",
    "print(a)\n",
    "print(a.view(-1,1)-1)"
   ]
  },
  {
   "cell_type": "code",
   "execution_count": 172,
   "metadata": {},
   "outputs": [
    {
     "name": "stdout",
     "output_type": "stream",
     "text": [
      "tensor([[[0.88030, 0.37800, 0.35430],\n",
      "         [0.33640, 0.16470, 0.00320],\n",
      "         [1.01530, 0.98700, 1.01810],\n",
      "         [1.60930, 2.31650, 2.31050],\n",
      "         [2.03050, 2.17650, 2.11770]],\n",
      "\n",
      "        [[1.36910, 1.26160, 1.21600],\n",
      "         [1.50070, 1.55700, 1.55570],\n",
      "         [1.54380, 1.38330, 1.51490],\n",
      "         [1.71090, 1.25320, 1.24540],\n",
      "         [1.31360, 1.28750, 1.13660]]])\n",
      "tensor([[1.61260, 0.50430, 3.02040, 6.23630, 6.32470],\n",
      "        [3.84670, 4.61340, 4.44200, 4.20950, 3.73770]])\n"
     ]
    }
   ],
   "source": [
    "log_sums = torch.abs(torch.tensor([[[-0.8803, -0.3780, -0.3543],\n",
    "         [-0.3364, -0.1647, -0.0032],\n",
    "         [ 1.0153,  0.9870,  1.0181],\n",
    "         [ 1.6093,  2.3165,  2.3105],\n",
    "         [ 2.0305,  2.1765,  2.1177]],\n",
    "\n",
    "        [[-1.3691, -1.2616, -1.2160],\n",
    "         [-1.5007, -1.5570, -1.5557],\n",
    "         [-1.5438, -1.3833, -1.5149],\n",
    "         [-1.7109, -1.2532, -1.2454],\n",
    "         [-1.3136, -1.2875, -1.1366]]]))\n",
    "print(log_sums)\n",
    "f = torch.sum(log_sums, dim=2)\n",
    "print(f)"
   ]
  },
  {
   "cell_type": "code",
   "execution_count": 191,
   "metadata": {},
   "outputs": [
    {
     "data": {
      "text/plain": [
       "tensor([6.32470, 3.73770])"
      ]
     },
     "execution_count": 191,
     "metadata": {},
     "output_type": "execute_result"
    }
   ],
   "source": [
    "seq_max = 5\n",
    "num_subjects = 2\n",
    "torch.gather(f, dim=1, index=torch.tensor([[seq_max-1]] * num_subjects)).squeeze()"
   ]
  },
  {
   "cell_type": "markdown",
   "metadata": {},
   "source": [
    "#### Backward range"
   ]
  },
  {
   "cell_type": "code",
   "execution_count": 58,
   "metadata": {},
   "outputs": [
    {
     "data": {
      "text/plain": [
       "[9, 8, 7, 6, 5, 4, 3, 2, 1]"
      ]
     },
     "execution_count": 58,
     "metadata": {},
     "output_type": "execute_result"
    }
   ],
   "source": [
    "list(range(10 - 1, 0, -1))"
   ]
  },
  {
   "cell_type": "markdown",
   "metadata": {},
   "source": [
    "### Normalize change"
   ]
  },
  {
   "cell_type": "code",
   "execution_count": 14,
   "metadata": {},
   "outputs": [
    {
     "name": "stdout",
     "output_type": "stream",
     "text": [
      "tensor([1.11000, 2.56000, 3.80000, 5.60000])\n",
      "tensor([0.15163, 0.34972, 0.51911, 0.76500])\n",
      "tensor([0.02071, 0.04777, 0.07091, 0.10451])\n"
     ]
    },
    {
     "name": "stderr",
     "output_type": "stream",
     "text": [
      "/tmp/ipykernel_14023/3135776936.py:4: UserWarning: The use of `x.T` on tensors of dimension other than 2 to reverse their shape is deprecated and it will throw an error in a future release. Consider `x.mT` to transpose batches of matricesor `x.permute(*torch.arange(x.ndim - 1, -1, -1))` to reverse the dimensions of a tensor. (Triggered internally at  ../aten/src/ATen/native/TensorShape.cpp:2981.)\n",
      "  print(a/(a.T@a))\n"
     ]
    }
   ],
   "source": [
    "a = torch.tensor([1.11,2.56,3.8,5.6,])\n",
    "print(a)\n",
    "print(nn.functional.normalize(a,dim=0))\n"
   ]
  },
  {
   "cell_type": "markdown",
   "metadata": {},
   "source": [
    "### ACG Log Matmul"
   ]
  },
  {
   "cell_type": "code",
   "execution_count": 29,
   "metadata": {},
   "outputs": [
    {
     "name": "stdout",
     "output_type": "stream",
     "text": [
      "--- X ----\n",
      "tensor([[1, 0, 1],\n",
      "        [1, 1, 1],\n",
      "        [0, 3, 2],\n",
      "        [3, 1, 1],\n",
      "        [1, 1, 2]])\n",
      "--- A inv ---\n",
      "tensor([[2, 0, 4],\n",
      "        [0, 1, 2],\n",
      "        [0, 3, 1]])\n",
      "\n",
      " -- Final Log results---\n"
     ]
    },
    {
     "data": {
      "text/plain": [
       "tensor([1.94591, 2.56495, 3.76120, 3.61092, 3.21888])"
      ]
     },
     "execution_count": 29,
     "metadata": {},
     "output_type": "execute_result"
    }
   ],
   "source": [
    "X = torch.randint(0,4,(5,3))\n",
    "A_inv = torch.randint(0,5,(3,3))\n",
    "print('--- X ----')\n",
    "print(X)\n",
    "print('--- A inv ---')\n",
    "print(A_inv)\n",
    "\n",
    "print('\\n -- Final Log results---')\n",
    "torch.log(torch.diag(X @ A_inv @ X.T))"
   ]
  },
  {
   "cell_type": "code",
   "execution_count": 30,
   "metadata": {},
   "outputs": [
    {
     "data": {
      "text/plain": [
       "tensor([[ 2,  3,  5],\n",
       "        [ 2,  4,  7],\n",
       "        [ 0,  9,  8],\n",
       "        [ 6,  4, 15],\n",
       "        [ 2,  7,  8]])"
      ]
     },
     "execution_count": 30,
     "metadata": {},
     "output_type": "execute_result"
    }
   ],
   "source": [
    "X @ A_inv"
   ]
  },
  {
   "cell_type": "code",
   "execution_count": 55,
   "metadata": {},
   "outputs": [
    {
     "name": "stdout",
     "output_type": "stream",
     "text": [
      "[1.9459102 2.5649495 3.7612002 3.610918  3.218876 ]\n"
     ]
    }
   ],
   "source": [
    "from scipy.special import *\n",
    "def log_space_product(A,B):\n",
    "    Astack = np.stack([A]*B.shape[1]).transpose(1,0,2)\n",
    "    Bstack = np.stack([B]*A.shape[0]).transpose(0,2,1)\n",
    "    return logsumexp(Astack+Bstack, axis=2)\n",
    "\n",
    "B = log_space_product(np.array(torch.log(X)),np.array(torch.log(A_inv)))\n",
    "\n",
    "print(np.diagonal(log_space_product(B, np.array(torch.log(X.T)))))"
   ]
  },
  {
   "cell_type": "code",
   "execution_count": 57,
   "metadata": {},
   "outputs": [
    {
     "name": "stdout",
     "output_type": "stream",
     "text": [
      "tensor([1.94591, 2.56495, 3.76120, 3.61092, 3.21888])\n"
     ]
    }
   ],
   "source": [
    "X_log = torch.log(X)\n",
    "A_inv_log = torch.log(A_inv)\n",
    "\n",
    "def log_matmul(A,B):\n",
    "    # A and B should be log\n",
    "    Astack = torch.permute(torch.stack([A]*B.shape[1]), (1, 0, 2))\n",
    "    Bstack = torch.permute(torch.stack([B]*A.shape[0]), (0, 2, 1))\n",
    "    log_multi = Astack+Bstack\n",
    "    return torch.logsumexp(log_multi, axis=2)\n",
    "\n",
    "B = log_matmul(X_log, A_inv_log)\n",
    "\n",
    "print(torch.diag(log_matmul(B, torch.transpose(X_log,1,0))))"
   ]
  },
  {
   "cell_type": "code",
   "execution_count": 58,
   "metadata": {},
   "outputs": [
    {
     "name": "stdout",
     "output_type": "stream",
     "text": [
      "tensor([1.94591, 2.56495, 3.76120, 3.61092, 3.21888])\n"
     ]
    }
   ],
   "source": [
    "X_log = torch.log(X)\n",
    "A_inv_log = torch.log(A_inv)\n",
    "\n",
    "def log_matmul2(A,B):\n",
    "    # A and B should be log\n",
    "    Astack = torch.permute(torch.stack([A]*B.shape[1]), (1, 0, 2))\n",
    "    Bstack = torch.permute(torch.stack([B]*A.shape[0]), (0, 2, 1))\n",
    "    log_multi = Astack+Bstack\n",
    "    return torch.logsumexp(log_multi, axis=2)\n",
    "\n",
    "B = log_matmul2(X_log, A_inv_log)\n",
    "\n",
    "print(torch.diag(log_matmul2(B, torch.transpose(X_log,1,0))))"
   ]
  },
  {
   "cell_type": "code",
   "execution_count": 63,
   "metadata": {},
   "outputs": [
    {
     "data": {
      "text/plain": [
       "tensor([[nan, nan, nan],\n",
       "        [nan, nan, nan],\n",
       "        [nan, nan, nan]])"
      ]
     },
     "execution_count": 63,
     "metadata": {},
     "output_type": "execute_result"
    }
   ],
   "source": [
    "torch.linalg.inv(torch.eye(3) * torch.tensor([0.4,6,2.1]))"
   ]
  },
  {
   "cell_type": "code",
   "execution_count": 70,
   "metadata": {},
   "outputs": [
    {
     "data": {
      "text/plain": [
       "tensor([10, 30,  6])"
      ]
     },
     "execution_count": 70,
     "metadata": {},
     "output_type": "execute_result"
    }
   ],
   "source": [
    "torch.randint(1,40,(3,))"
   ]
  }
 ],
 "metadata": {
  "kernelspec": {
   "display_name": "Python 3 (ipykernel)",
   "language": "python",
   "name": "python3"
  },
  "language_info": {
   "codemirror_mode": {
    "name": "ipython",
    "version": 3
   },
   "file_extension": ".py",
   "mimetype": "text/x-python",
   "name": "python",
   "nbconvert_exporter": "python",
   "pygments_lexer": "ipython3",
   "version": "3.10.6"
  }
 },
 "nbformat": 4,
 "nbformat_minor": 1
}
