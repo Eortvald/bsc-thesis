{
 "cells": [
  {
   "cell_type": "code",
   "execution_count": 1,
   "metadata": {
    "pycharm": {
     "name": "#%%\n"
    }
   },
   "outputs": [],
   "source": [
    "import pickle\n",
    "import pandas as pd\n",
    "import matplotlib.pyplot as plt\n",
    "import numpy as np\n"
   ]
  },
  {
   "cell_type": "markdown",
   "metadata": {
    "pycharm": {
     "name": "#%% md\n"
    }
   },
   "source": [
    "Read one of the two pickle files"
   ]
  },
  {
   "cell_type": "code",
   "execution_count": null,
   "metadata": {},
   "outputs": [],
   "source": [
    "pd.read_csv"
   ]
  },
  {
   "cell_type": "code",
   "execution_count": 2,
   "metadata": {
    "pycharm": {
     "name": "#%%\n"
    }
   },
   "outputs": [],
   "source": [
    "with open('Torch_B_K=10.pickle','rb') as f:\n",
    "    Pis,kappas,mus,B = pickle.load(f)\n",
    "\n",
    "mus = mus.detach().numpy()\n",
    "Pis = Pis.detach().numpy()"
   ]
  },
  {
   "cell_type": "code",
   "execution_count": 3,
   "metadata": {
    "pycharm": {
     "name": "#%%\n"
    }
   },
   "outputs": [],
   "source": [
    "with open('HMM_B_K=10.pickle','rb') as f:\n",
    "    mus,kappa,B = pickle.load(f)\n",
    "\n",
    "mus = mus.detach().numpy()"
   ]
  },
  {
   "cell_type": "code",
   "execution_count": 4,
   "metadata": {
    "pycharm": {
     "name": "#%%\n"
    }
   },
   "outputs": [],
   "source": [
    "label = pd.read_csv(f\"/Users/frederikkeuldahl/Desktop/Fagprojekt/GitHub/EM-pytorch/AALlabels.csv\")\n",
    "label = [i[0][1:-1] for i in label.values]"
   ]
  },
  {
   "cell_type": "code",
   "execution_count": 5,
   "metadata": {
    "pycharm": {
     "name": "#%%\n"
    }
   },
   "outputs": [
    {
     "data": {
      "application/vnd.plotly.v1+json": {
       "config": {
        "plotlyServerURL": "https://plot.ly"
       },
       "data": [
        {
         "orientation": "h",
         "type": "bar",
         "x": [
          -23.60629509586077,
          -16.6400363861438,
          11.320668201457961,
          -15.451497130706374,
          20.21772816456144,
          -12.20218896260849,
          19.40199992899177,
          -10.278696108790214,
          21.34198495100855,
          -3.963413134579522,
          10.138552069230629,
          -0.012836493974303047,
          25.660792529553667,
          14.290276470711772,
          29.687121534376118,
          6.608556042664488,
          -26.159073853320006,
          -19.520786105238898,
          2.918121604457083,
          -17.169351484303814,
          -23.01015541581382,
          -13.995234486310432,
          29.961694760118068,
          23.344514756896345,
          4.216863951915659,
          -7.737601821647081,
          6.70948867173343,
          -2.939195007255938,
          -11.03116482996363,
          -6.668094763237857,
          8.908448096632815,
          -4.131260458972937,
          -18.928584683320217,
          -22.063914994111997,
          -13.693295015363036,
          -15.977258613095291,
          -1.7242357405387034,
          2.7359879988209443,
          -10.00330213247757,
          -22.866229403975545,
          -9.205136015076912,
          -0.12698233462198272,
          -26.201130885695466,
          -27.24349979812622,
          -32.07641273236076,
          -32.093787090293,
          -28.44751863599074,
          -33.508881814408156,
          -27.65453709160807,
          -29.3021510916125,
          -28.292058160188287,
          -30.426047395704742,
          -28.329539790986665,
          -18.179842821924918,
          -32.613669288041656,
          -33.44155896240737,
          -24.269477509619172,
          -20.41559556770666,
          -7.015009864059418,
          -28.61083291364052,
          3.78712740847645,
          0.31883662345693264,
          -9.07647730354047,
          -4.089658952827858,
          -18.048320636908688,
          -18.37194036038614,
          -30.640744003591276,
          -31.728946584433636,
          -19.677879524527985,
          -25.477765947764045,
          9.775635919453435,
          3.4854508706081933,
          -0.08991979004052042,
          -0.748913366711996,
          -8.281166813095059,
          -3.940671214953862,
          -20.455300390818795,
          -26.805231886427684,
          -25.52597933929297,
          -14.060472437784064,
          -28.54173244244381,
          -27.539363898117845,
          -17.405619450708965,
          -10.43171613780942,
          -6.150698071259217,
          -13.63054135079322,
          -10.80919524368569,
          -16.901321289255957,
          -1.0974048642622496,
          -7.899762139690075
         ],
         "xaxis": "x",
         "y": [
          "Precentral-L",
          "Precentral-R",
          "Frontal-Sup-L",
          "Frontal-Sup-R",
          "Frontal-Sup-Orb-L",
          "Frontal-Sup-Orb-R",
          "Frontal-Mid-L",
          "Frontal-Mid-R",
          "Frontal-Mid-Orb-L",
          "Frontal-Mid-Orb-R",
          "Frontal-Inf-Oper-L",
          "Frontal-Inf-Oper-R",
          "Frontal-Inf-Tri-L",
          "Frontal-Inf-Tri-R",
          "Frontal-Inf-Orb-L",
          "Frontal-Inf-Orb-R",
          "Rolandic-Oper-L",
          "Rolandic-Oper-R",
          "Supp-Motor-Area-L",
          "Supp-Motor-Area-R",
          "Olfactory-L",
          "Olfactory-R",
          "Frontal-Sup-Medial-L",
          "Frontal-Sup-Medial-R",
          "Frontal-Med-Orb-L",
          "Frontal-Med-Orb-R",
          "Rectus-L",
          "Rectus-R",
          "Insula-L",
          "Insula-R",
          "Cingulum-Ant-L",
          "Cingulum-Ant-R",
          "Cingulum-Mid-L",
          "Cingulum-Mid-R",
          "Cingulum-Post-L",
          "Cingulum-Post-R",
          "Hippocampus-L",
          "Hippocampus-R",
          "ParaHippocampal-L",
          "ParaHippocampal-R",
          "Amygdala-L",
          "Amygdala-R",
          "Calcarine-L",
          "Calcarine-R",
          "Cuneus-L",
          "Cuneus-R",
          "Lingual-L",
          "Lingual-R",
          "Occipital-Sup-L",
          "Occipital-Sup-R",
          "Occipital-Mid-L",
          "Occipital-Mid-R",
          "Occipital-Inf-L",
          "Occipital-Inf-R",
          "Fusiform-L",
          "Fusiform-R",
          "Postcentral-L",
          "Postcentral-R",
          "Parietal-Sup-L",
          "Parietal-Sup-R",
          "Parietal-Inf-L",
          "Parietal-Inf-R",
          "SupraMarginal-L",
          "SupraMarginal-R",
          "Angular-L",
          "Angular-R",
          "Precuneus-L",
          "Precuneus-R",
          "Paracentral-Lobule-L",
          "Paracentral-Lobule-R",
          "Caudate-L",
          "Caudate-R",
          "Putamen-L",
          "Putamen-R",
          "Pallidum-L",
          "Pallidum-R",
          "Thalamus-L",
          "Thalamus-R",
          "Heschl-L",
          "Heschl-R",
          "Temporal-Sup-L",
          "Temporal-Sup-R",
          "Temporal-Pole-Sup-L",
          "Temporal-Pole-Sup-R",
          "Temporal-Mid-L",
          "Temporal-Mid-R",
          "Temporal-Pole-Mid-L",
          "Temporal-Pole-Mid-R",
          "Temporal-Inf-L",
          "Temporal-Inf-R"
         ],
         "yaxis": "y"
        },
        {
         "orientation": "h",
         "type": "bar",
         "x": [
          14.37841820631236,
          22.882448111085676,
          -6.145712118233292,
          5.77444027516339,
          -11.130118346183307,
          -18.598280660182407,
          -25.180948328587128,
          -9.032044945426136,
          -17.089853920684437,
          -8.540189683897305,
          20.962835928119677,
          -12.489851334414505,
          1.5629179159015631,
          9.034693865920469,
          21.637856594254714,
          -19.7012744899482,
          31.360299529096768,
          34.62825732264004,
          28.29839633170252,
          29.266644999865083,
          -17.94270948289761,
          1.7954412312826211,
          1.2278924207764181,
          8.344714112748036,
          -16.296604389431188,
          -9.464883463757321,
          -18.928370053649267,
          -17.36259584125632,
          34.73455799416959,
          36.48984082559557,
          21.804876528177026,
          25.891485477726594,
          19.235788821486643,
          26.14041508656246,
          -18.15924496360148,
          0.6523623388295109,
          -32.815415943372486,
          -2.718003770819022,
          -27.937618696197728,
          -30.74620968455057,
          -15.124473330281452,
          -16.895574945921037,
          -32.16145718787676,
          -34.55608699808273,
          -32.907470262301004,
          -32.64716351895849,
          -30.435603313036747,
          -37.32494943153921,
          -33.17728887907952,
          -33.683780245339534,
          -32.08774066838666,
          -34.7829854380124,
          -33.36652046133614,
          -29.133794165068327,
          -32.781194669438094,
          -34.29572470615951,
          20.682423113047452,
          32.06143741164136,
          -28.364576224123002,
          -17.839000576771994,
          -13.02533363075043,
          5.566131409366772,
          29.668399470818144,
          29.548505688488195,
          -27.127368356559234,
          -29.803177707907377,
          -27.41316675493166,
          -12.45235641895214,
          1.6953676490859058,
          -20.889525301131282,
          -3.6202816399831166,
          -3.9348487819848215,
          16.134693083392047,
          30.857168471794544,
          2.2895667136379636,
          21.133021171682884,
          -9.688666980973055,
          -12.249375403077856,
          30.1452416697092,
          31.246341750566025,
          26.592760904950516,
          33.66667582761478,
          -0.995010475968863,
          -9.559468153551212,
          -23.406870405164273,
          -17.48567247040597,
          -32.80466583120466,
          -36.256134633590634,
          -31.272725213642367,
          -18.405788579187504
         ],
         "xaxis": "x2",
         "y": [
          "Precentral-L",
          "Precentral-R",
          "Frontal-Sup-L",
          "Frontal-Sup-R",
          "Frontal-Sup-Orb-L",
          "Frontal-Sup-Orb-R",
          "Frontal-Mid-L",
          "Frontal-Mid-R",
          "Frontal-Mid-Orb-L",
          "Frontal-Mid-Orb-R",
          "Frontal-Inf-Oper-L",
          "Frontal-Inf-Oper-R",
          "Frontal-Inf-Tri-L",
          "Frontal-Inf-Tri-R",
          "Frontal-Inf-Orb-L",
          "Frontal-Inf-Orb-R",
          "Rolandic-Oper-L",
          "Rolandic-Oper-R",
          "Supp-Motor-Area-L",
          "Supp-Motor-Area-R",
          "Olfactory-L",
          "Olfactory-R",
          "Frontal-Sup-Medial-L",
          "Frontal-Sup-Medial-R",
          "Frontal-Med-Orb-L",
          "Frontal-Med-Orb-R",
          "Rectus-L",
          "Rectus-R",
          "Insula-L",
          "Insula-R",
          "Cingulum-Ant-L",
          "Cingulum-Ant-R",
          "Cingulum-Mid-L",
          "Cingulum-Mid-R",
          "Cingulum-Post-L",
          "Cingulum-Post-R",
          "Hippocampus-L",
          "Hippocampus-R",
          "ParaHippocampal-L",
          "ParaHippocampal-R",
          "Amygdala-L",
          "Amygdala-R",
          "Calcarine-L",
          "Calcarine-R",
          "Cuneus-L",
          "Cuneus-R",
          "Lingual-L",
          "Lingual-R",
          "Occipital-Sup-L",
          "Occipital-Sup-R",
          "Occipital-Mid-L",
          "Occipital-Mid-R",
          "Occipital-Inf-L",
          "Occipital-Inf-R",
          "Fusiform-L",
          "Fusiform-R",
          "Postcentral-L",
          "Postcentral-R",
          "Parietal-Sup-L",
          "Parietal-Sup-R",
          "Parietal-Inf-L",
          "Parietal-Inf-R",
          "SupraMarginal-L",
          "SupraMarginal-R",
          "Angular-L",
          "Angular-R",
          "Precuneus-L",
          "Precuneus-R",
          "Paracentral-Lobule-L",
          "Paracentral-Lobule-R",
          "Caudate-L",
          "Caudate-R",
          "Putamen-L",
          "Putamen-R",
          "Pallidum-L",
          "Pallidum-R",
          "Thalamus-L",
          "Thalamus-R",
          "Heschl-L",
          "Heschl-R",
          "Temporal-Sup-L",
          "Temporal-Sup-R",
          "Temporal-Pole-Sup-L",
          "Temporal-Pole-Sup-R",
          "Temporal-Mid-L",
          "Temporal-Mid-R",
          "Temporal-Pole-Mid-L",
          "Temporal-Pole-Mid-R",
          "Temporal-Inf-L",
          "Temporal-Inf-R"
         ],
         "yaxis": "y2"
        },
        {
         "orientation": "h",
         "type": "bar",
         "x": [
          -29.254620605161925,
          -28.46471851774036,
          9.828031745116037,
          -9.742495558272507,
          10.797626511709042,
          -18.66043483388017,
          15.450452375797635,
          -10.635987026276037,
          13.541518486376386,
          -8.142213653344204,
          -37.20066664840518,
          -10.53888992575652,
          3.2166182645744152,
          -0.8959692503220104,
          30.01195985238562,
          11.614193378349485,
          -37.677178044308505,
          -39.90334328281999,
          -23.085106249492835,
          -31.99666961781243,
          -14.392888573412423,
          -5.487560460558345,
          31.648964730686764,
          27.569105127615142,
          3.251178300255509,
          15.256491863126103,
          10.853601515581657,
          12.29987407071334,
          -37.85298412589491,
          -31.257930990442816,
          10.481588065415545,
          -5.807901078758845,
          -5.19598873648108,
          -20.90526142374582,
          34.378629751573385,
          26.173830827892505,
          4.279359049151123,
          -16.431012616173142,
          18.08479445889356,
          -29.10704902564416,
          -20.453088148055688,
          -26.132816345583628,
          22.134044829532897,
          24.76440203438032,
          26.407656986526696,
          32.693127669706456,
          25.866358359582218,
          18.265118542195967,
          34.79475037215997,
          37.77923087282175,
          22.18635530675333,
          32.12899246774971,
          23.246675522608406,
          22.00125246073681,
          27.9530025537193,
          22.387145652055526,
          -37.74125982553086,
          -26.811033277292495,
          -12.250431388211252,
          -18.808264665252032,
          -3.393771266735372,
          -12.222657113744317,
          -38.836948836423765,
          -40.04269723301102,
          34.52010511774363,
          21.051408916017806,
          -0.7093346041707588,
          -18.03419086785208,
          -24.837619791262846,
          -6.95250102325926,
          -7.849800209674762,
          -9.274170517580044,
          -20.77055819758621,
          -26.23637673032681,
          -16.6142822199654,
          -26.42395619735128,
          -8.5105122713563,
          -22.8710607014819,
          -29.803368051430787,
          -36.71837155388371,
          -36.696026034625376,
          -28.442714210925114,
          -13.334258672187378,
          -18.06202416486993,
          21.5059069935042,
          7.446639739101835,
          13.476824348324516,
          1.0284968727836774,
          15.03459815438055,
          8.686841219665995
         ],
         "xaxis": "x3",
         "y": [
          "Precentral-L",
          "Precentral-R",
          "Frontal-Sup-L",
          "Frontal-Sup-R",
          "Frontal-Sup-Orb-L",
          "Frontal-Sup-Orb-R",
          "Frontal-Mid-L",
          "Frontal-Mid-R",
          "Frontal-Mid-Orb-L",
          "Frontal-Mid-Orb-R",
          "Frontal-Inf-Oper-L",
          "Frontal-Inf-Oper-R",
          "Frontal-Inf-Tri-L",
          "Frontal-Inf-Tri-R",
          "Frontal-Inf-Orb-L",
          "Frontal-Inf-Orb-R",
          "Rolandic-Oper-L",
          "Rolandic-Oper-R",
          "Supp-Motor-Area-L",
          "Supp-Motor-Area-R",
          "Olfactory-L",
          "Olfactory-R",
          "Frontal-Sup-Medial-L",
          "Frontal-Sup-Medial-R",
          "Frontal-Med-Orb-L",
          "Frontal-Med-Orb-R",
          "Rectus-L",
          "Rectus-R",
          "Insula-L",
          "Insula-R",
          "Cingulum-Ant-L",
          "Cingulum-Ant-R",
          "Cingulum-Mid-L",
          "Cingulum-Mid-R",
          "Cingulum-Post-L",
          "Cingulum-Post-R",
          "Hippocampus-L",
          "Hippocampus-R",
          "ParaHippocampal-L",
          "ParaHippocampal-R",
          "Amygdala-L",
          "Amygdala-R",
          "Calcarine-L",
          "Calcarine-R",
          "Cuneus-L",
          "Cuneus-R",
          "Lingual-L",
          "Lingual-R",
          "Occipital-Sup-L",
          "Occipital-Sup-R",
          "Occipital-Mid-L",
          "Occipital-Mid-R",
          "Occipital-Inf-L",
          "Occipital-Inf-R",
          "Fusiform-L",
          "Fusiform-R",
          "Postcentral-L",
          "Postcentral-R",
          "Parietal-Sup-L",
          "Parietal-Sup-R",
          "Parietal-Inf-L",
          "Parietal-Inf-R",
          "SupraMarginal-L",
          "SupraMarginal-R",
          "Angular-L",
          "Angular-R",
          "Precuneus-L",
          "Precuneus-R",
          "Paracentral-Lobule-L",
          "Paracentral-Lobule-R",
          "Caudate-L",
          "Caudate-R",
          "Putamen-L",
          "Putamen-R",
          "Pallidum-L",
          "Pallidum-R",
          "Thalamus-L",
          "Thalamus-R",
          "Heschl-L",
          "Heschl-R",
          "Temporal-Sup-L",
          "Temporal-Sup-R",
          "Temporal-Pole-Sup-L",
          "Temporal-Pole-Sup-R",
          "Temporal-Mid-L",
          "Temporal-Mid-R",
          "Temporal-Pole-Mid-L",
          "Temporal-Pole-Mid-R",
          "Temporal-Inf-L",
          "Temporal-Inf-R"
         ],
         "yaxis": "y3"
        },
        {
         "orientation": "h",
         "type": "bar",
         "x": [
          -19.93884960221822,
          -17.32729499078907,
          16.286021254055687,
          18.93214453209078,
          18.410955866171868,
          11.88339209205336,
          15.666781068694942,
          11.692711098597258,
          24.06910400387581,
          21.3924921612274,
          -4.7884066427452625,
          -6.787078976317149,
          13.596164060452047,
          11.90397222270262,
          20.34076459051176,
          18.463723154580784,
          -22.896663065106342,
          -24.906617509470006,
          -12.313028448721344,
          -23.740611195149956,
          4.632433953263531,
          -2.5698927856071263,
          22.309034522587712,
          19.443441188653438,
          17.325842160041987,
          9.29257371899337,
          9.52219414964292,
          16.32297300603853,
          -18.861372847660018,
          -22.602067000359362,
          11.302800768289236,
          4.161032676803965,
          -20.424890590776712,
          -21.025345111727844,
          15.033945973035651,
          13.727446591275587,
          2.2174810530546942,
          -1.5216061536952743,
          10.078560006368843,
          -6.841764172378601,
          -6.610276117636578,
          -10.572266573686589,
          -19.349959957944808,
          -18.929818294335885,
          -22.143442473189882,
          -22.0239677008609,
          -17.393262162615066,
          -25.363342955475748,
          -23.714422683151465,
          -18.772878266850796,
          -18.43973274422212,
          -14.754383218964014,
          -13.805566493682187,
          -9.580838883672572,
          -7.380536996750955,
          -13.358909226724274,
          -20.258009039526478,
          -15.696767277772253,
          -0.9257999501098352,
          -1.6056119484373232,
          18.821278740537497,
          12.613507931895121,
          -9.417863951687094,
          -21.10608681788406,
          23.671781254569254,
          21.20206116347567,
          1.9624986517752332,
          -7.029413168487207,
          -17.002520886864566,
          -7.1405032574726865,
          -8.11286927919714,
          -5.6600666822352315,
          -7.792244971233216,
          -13.374201486776615,
          0.38575557248488074,
          -10.133305733985463,
          -4.25327335561071,
          -14.93948672196195,
          -23.633603640708692,
          -19.793756736869796,
          -20.472786417630804,
          -25.19910438200211,
          -11.659429685818607,
          -22.187386829189357,
          23.27609353527299,
          12.085627003671537,
          23.2723653346033,
          18.30195516693198,
          21.034095693839124,
          17.343878086118572
         ],
         "xaxis": "x4",
         "y": [
          "Precentral-L",
          "Precentral-R",
          "Frontal-Sup-L",
          "Frontal-Sup-R",
          "Frontal-Sup-Orb-L",
          "Frontal-Sup-Orb-R",
          "Frontal-Mid-L",
          "Frontal-Mid-R",
          "Frontal-Mid-Orb-L",
          "Frontal-Mid-Orb-R",
          "Frontal-Inf-Oper-L",
          "Frontal-Inf-Oper-R",
          "Frontal-Inf-Tri-L",
          "Frontal-Inf-Tri-R",
          "Frontal-Inf-Orb-L",
          "Frontal-Inf-Orb-R",
          "Rolandic-Oper-L",
          "Rolandic-Oper-R",
          "Supp-Motor-Area-L",
          "Supp-Motor-Area-R",
          "Olfactory-L",
          "Olfactory-R",
          "Frontal-Sup-Medial-L",
          "Frontal-Sup-Medial-R",
          "Frontal-Med-Orb-L",
          "Frontal-Med-Orb-R",
          "Rectus-L",
          "Rectus-R",
          "Insula-L",
          "Insula-R",
          "Cingulum-Ant-L",
          "Cingulum-Ant-R",
          "Cingulum-Mid-L",
          "Cingulum-Mid-R",
          "Cingulum-Post-L",
          "Cingulum-Post-R",
          "Hippocampus-L",
          "Hippocampus-R",
          "ParaHippocampal-L",
          "ParaHippocampal-R",
          "Amygdala-L",
          "Amygdala-R",
          "Calcarine-L",
          "Calcarine-R",
          "Cuneus-L",
          "Cuneus-R",
          "Lingual-L",
          "Lingual-R",
          "Occipital-Sup-L",
          "Occipital-Sup-R",
          "Occipital-Mid-L",
          "Occipital-Mid-R",
          "Occipital-Inf-L",
          "Occipital-Inf-R",
          "Fusiform-L",
          "Fusiform-R",
          "Postcentral-L",
          "Postcentral-R",
          "Parietal-Sup-L",
          "Parietal-Sup-R",
          "Parietal-Inf-L",
          "Parietal-Inf-R",
          "SupraMarginal-L",
          "SupraMarginal-R",
          "Angular-L",
          "Angular-R",
          "Precuneus-L",
          "Precuneus-R",
          "Paracentral-Lobule-L",
          "Paracentral-Lobule-R",
          "Caudate-L",
          "Caudate-R",
          "Putamen-L",
          "Putamen-R",
          "Pallidum-L",
          "Pallidum-R",
          "Thalamus-L",
          "Thalamus-R",
          "Heschl-L",
          "Heschl-R",
          "Temporal-Sup-L",
          "Temporal-Sup-R",
          "Temporal-Pole-Sup-L",
          "Temporal-Pole-Sup-R",
          "Temporal-Mid-L",
          "Temporal-Mid-R",
          "Temporal-Pole-Mid-L",
          "Temporal-Pole-Mid-R",
          "Temporal-Inf-L",
          "Temporal-Inf-R"
         ],
         "yaxis": "y4"
        },
        {
         "orientation": "h",
         "type": "bar",
         "x": [
          4.366743931727818,
          -15.132147040563288,
          -18.83460333099475,
          -25.098757934007562,
          -19.189940257639474,
          -9.866596560687872,
          -20.297900108684747,
          -24.49768569943986,
          -17.642081917199572,
          -22.385890748870747,
          -11.54014417910422,
          -17.672350622475516,
          -15.063105696135937,
          -19.35773789194394,
          -19.938782215002103,
          -12.386171679286573,
          -21.037004359090677,
          -17.923899465408702,
          -11.750494566711454,
          -11.46343781308807,
          1.8033553443378214,
          4.6060206162546935,
          -18.87649037549592,
          -20.49110008405237,
          -11.927171783983217,
          -11.69447929599421,
          10.33303855935004,
          8.321644592544336,
          -17.83049501550697,
          -17.360946250803043,
          -19.504360539732946,
          -24.83436945554776,
          -19.79875154770595,
          -20.25593341767886,
          -5.345784743102095,
          -4.990707533014427,
          7.253012519486056,
          -2.624012194948292,
          -2.0293672806249035,
          -18.79651426134655,
          4.9747275145285235,
          -4.010576028397592,
          22.830830322393663,
          21.631292036123124,
          19.669044624266682,
          23.776186279327383,
          13.42134898377591,
          19.708929404402816,
          24.223663725619215,
          25.860218615770137,
          24.697393499786788,
          23.316368526581673,
          23.878160727649963,
          21.99652991081075,
          16.894718875187486,
          24.169407173672933,
          -10.794456930329332,
          -14.309751094209275,
          8.576464779274879,
          5.342269273856417,
          -6.066663275426973,
          -23.931073850513826,
          -5.967395340995181,
          -13.359756143094769,
          -9.810443354860638,
          -15.740860036582571,
          1.5532946255106173,
          2.1781421629741438,
          -8.858040740409804,
          -12.200319759402245,
          -15.775531923609803,
          -23.11019519166956,
          -14.595685153616605,
          -16.99002755675154,
          -12.121390103536855,
          -10.062448386184268,
          -16.096412659465944,
          -10.358900997116598,
          -25.031048042352584,
          -16.829647325418215,
          -24.440337786611856,
          -23.633471771506496,
          -18.386516266143467,
          -13.215388242332514,
          -9.041045980868201,
          -19.723136685398558,
          -3.085800009421863,
          -10.049745999642083,
          -12.291412881650631,
          -15.382078915283968
         ],
         "xaxis": "x5",
         "y": [
          "Precentral-L",
          "Precentral-R",
          "Frontal-Sup-L",
          "Frontal-Sup-R",
          "Frontal-Sup-Orb-L",
          "Frontal-Sup-Orb-R",
          "Frontal-Mid-L",
          "Frontal-Mid-R",
          "Frontal-Mid-Orb-L",
          "Frontal-Mid-Orb-R",
          "Frontal-Inf-Oper-L",
          "Frontal-Inf-Oper-R",
          "Frontal-Inf-Tri-L",
          "Frontal-Inf-Tri-R",
          "Frontal-Inf-Orb-L",
          "Frontal-Inf-Orb-R",
          "Rolandic-Oper-L",
          "Rolandic-Oper-R",
          "Supp-Motor-Area-L",
          "Supp-Motor-Area-R",
          "Olfactory-L",
          "Olfactory-R",
          "Frontal-Sup-Medial-L",
          "Frontal-Sup-Medial-R",
          "Frontal-Med-Orb-L",
          "Frontal-Med-Orb-R",
          "Rectus-L",
          "Rectus-R",
          "Insula-L",
          "Insula-R",
          "Cingulum-Ant-L",
          "Cingulum-Ant-R",
          "Cingulum-Mid-L",
          "Cingulum-Mid-R",
          "Cingulum-Post-L",
          "Cingulum-Post-R",
          "Hippocampus-L",
          "Hippocampus-R",
          "ParaHippocampal-L",
          "ParaHippocampal-R",
          "Amygdala-L",
          "Amygdala-R",
          "Calcarine-L",
          "Calcarine-R",
          "Cuneus-L",
          "Cuneus-R",
          "Lingual-L",
          "Lingual-R",
          "Occipital-Sup-L",
          "Occipital-Sup-R",
          "Occipital-Mid-L",
          "Occipital-Mid-R",
          "Occipital-Inf-L",
          "Occipital-Inf-R",
          "Fusiform-L",
          "Fusiform-R",
          "Postcentral-L",
          "Postcentral-R",
          "Parietal-Sup-L",
          "Parietal-Sup-R",
          "Parietal-Inf-L",
          "Parietal-Inf-R",
          "SupraMarginal-L",
          "SupraMarginal-R",
          "Angular-L",
          "Angular-R",
          "Precuneus-L",
          "Precuneus-R",
          "Paracentral-Lobule-L",
          "Paracentral-Lobule-R",
          "Caudate-L",
          "Caudate-R",
          "Putamen-L",
          "Putamen-R",
          "Pallidum-L",
          "Pallidum-R",
          "Thalamus-L",
          "Thalamus-R",
          "Heschl-L",
          "Heschl-R",
          "Temporal-Sup-L",
          "Temporal-Sup-R",
          "Temporal-Pole-Sup-L",
          "Temporal-Pole-Sup-R",
          "Temporal-Mid-L",
          "Temporal-Mid-R",
          "Temporal-Pole-Mid-L",
          "Temporal-Pole-Mid-R",
          "Temporal-Inf-L",
          "Temporal-Inf-R"
         ],
         "yaxis": "y5"
        }
       ],
       "layout": {
        "annotations": [
         {
          "font": {
           "size": 16
          },
          "showarrow": false,
          "text": "Centorid 2, Pi 0.0",
          "x": 0.08399999999999999,
          "xanchor": "center",
          "xref": "paper",
          "y": 1,
          "yanchor": "bottom",
          "yref": "paper"
         },
         {
          "font": {
           "size": 16
          },
          "showarrow": false,
          "text": "Centorid 5, Pi 0.2319",
          "x": 0.292,
          "xanchor": "center",
          "xref": "paper",
          "y": 1,
          "yanchor": "bottom",
          "yref": "paper"
         },
         {
          "font": {
           "size": 16
          },
          "showarrow": false,
          "text": "Centorid 6, Pi 0.0457",
          "x": 0.5,
          "xanchor": "center",
          "xref": "paper",
          "y": 1,
          "yanchor": "bottom",
          "yref": "paper"
         },
         {
          "font": {
           "size": 16
          },
          "showarrow": false,
          "text": "Centorid 9, Pi 0.0",
          "x": 0.708,
          "xanchor": "center",
          "xref": "paper",
          "y": 1,
          "yanchor": "bottom",
          "yref": "paper"
         },
         {
          "font": {
           "size": 16
          },
          "showarrow": false,
          "text": "Centorid 10, Pi 0.2276",
          "x": 0.9159999999999999,
          "xanchor": "center",
          "xref": "paper",
          "y": 1,
          "yanchor": "bottom",
          "yref": "paper"
         }
        ],
        "height": 1500,
        "showlegend": false,
        "template": {
         "data": {
          "bar": [
           {
            "error_x": {
             "color": "#2a3f5f"
            },
            "error_y": {
             "color": "#2a3f5f"
            },
            "marker": {
             "line": {
              "color": "#E5ECF6",
              "width": 0.5
             },
             "pattern": {
              "fillmode": "overlay",
              "size": 10,
              "solidity": 0.2
             }
            },
            "type": "bar"
           }
          ],
          "barpolar": [
           {
            "marker": {
             "line": {
              "color": "#E5ECF6",
              "width": 0.5
             },
             "pattern": {
              "fillmode": "overlay",
              "size": 10,
              "solidity": 0.2
             }
            },
            "type": "barpolar"
           }
          ],
          "carpet": [
           {
            "aaxis": {
             "endlinecolor": "#2a3f5f",
             "gridcolor": "white",
             "linecolor": "white",
             "minorgridcolor": "white",
             "startlinecolor": "#2a3f5f"
            },
            "baxis": {
             "endlinecolor": "#2a3f5f",
             "gridcolor": "white",
             "linecolor": "white",
             "minorgridcolor": "white",
             "startlinecolor": "#2a3f5f"
            },
            "type": "carpet"
           }
          ],
          "choropleth": [
           {
            "colorbar": {
             "outlinewidth": 0,
             "ticks": ""
            },
            "type": "choropleth"
           }
          ],
          "contour": [
           {
            "colorbar": {
             "outlinewidth": 0,
             "ticks": ""
            },
            "colorscale": [
             [
              0,
              "#0d0887"
             ],
             [
              0.1111111111111111,
              "#46039f"
             ],
             [
              0.2222222222222222,
              "#7201a8"
             ],
             [
              0.3333333333333333,
              "#9c179e"
             ],
             [
              0.4444444444444444,
              "#bd3786"
             ],
             [
              0.5555555555555556,
              "#d8576b"
             ],
             [
              0.6666666666666666,
              "#ed7953"
             ],
             [
              0.7777777777777778,
              "#fb9f3a"
             ],
             [
              0.8888888888888888,
              "#fdca26"
             ],
             [
              1,
              "#f0f921"
             ]
            ],
            "type": "contour"
           }
          ],
          "contourcarpet": [
           {
            "colorbar": {
             "outlinewidth": 0,
             "ticks": ""
            },
            "type": "contourcarpet"
           }
          ],
          "heatmap": [
           {
            "colorbar": {
             "outlinewidth": 0,
             "ticks": ""
            },
            "colorscale": [
             [
              0,
              "#0d0887"
             ],
             [
              0.1111111111111111,
              "#46039f"
             ],
             [
              0.2222222222222222,
              "#7201a8"
             ],
             [
              0.3333333333333333,
              "#9c179e"
             ],
             [
              0.4444444444444444,
              "#bd3786"
             ],
             [
              0.5555555555555556,
              "#d8576b"
             ],
             [
              0.6666666666666666,
              "#ed7953"
             ],
             [
              0.7777777777777778,
              "#fb9f3a"
             ],
             [
              0.8888888888888888,
              "#fdca26"
             ],
             [
              1,
              "#f0f921"
             ]
            ],
            "type": "heatmap"
           }
          ],
          "heatmapgl": [
           {
            "colorbar": {
             "outlinewidth": 0,
             "ticks": ""
            },
            "colorscale": [
             [
              0,
              "#0d0887"
             ],
             [
              0.1111111111111111,
              "#46039f"
             ],
             [
              0.2222222222222222,
              "#7201a8"
             ],
             [
              0.3333333333333333,
              "#9c179e"
             ],
             [
              0.4444444444444444,
              "#bd3786"
             ],
             [
              0.5555555555555556,
              "#d8576b"
             ],
             [
              0.6666666666666666,
              "#ed7953"
             ],
             [
              0.7777777777777778,
              "#fb9f3a"
             ],
             [
              0.8888888888888888,
              "#fdca26"
             ],
             [
              1,
              "#f0f921"
             ]
            ],
            "type": "heatmapgl"
           }
          ],
          "histogram": [
           {
            "marker": {
             "pattern": {
              "fillmode": "overlay",
              "size": 10,
              "solidity": 0.2
             }
            },
            "type": "histogram"
           }
          ],
          "histogram2d": [
           {
            "colorbar": {
             "outlinewidth": 0,
             "ticks": ""
            },
            "colorscale": [
             [
              0,
              "#0d0887"
             ],
             [
              0.1111111111111111,
              "#46039f"
             ],
             [
              0.2222222222222222,
              "#7201a8"
             ],
             [
              0.3333333333333333,
              "#9c179e"
             ],
             [
              0.4444444444444444,
              "#bd3786"
             ],
             [
              0.5555555555555556,
              "#d8576b"
             ],
             [
              0.6666666666666666,
              "#ed7953"
             ],
             [
              0.7777777777777778,
              "#fb9f3a"
             ],
             [
              0.8888888888888888,
              "#fdca26"
             ],
             [
              1,
              "#f0f921"
             ]
            ],
            "type": "histogram2d"
           }
          ],
          "histogram2dcontour": [
           {
            "colorbar": {
             "outlinewidth": 0,
             "ticks": ""
            },
            "colorscale": [
             [
              0,
              "#0d0887"
             ],
             [
              0.1111111111111111,
              "#46039f"
             ],
             [
              0.2222222222222222,
              "#7201a8"
             ],
             [
              0.3333333333333333,
              "#9c179e"
             ],
             [
              0.4444444444444444,
              "#bd3786"
             ],
             [
              0.5555555555555556,
              "#d8576b"
             ],
             [
              0.6666666666666666,
              "#ed7953"
             ],
             [
              0.7777777777777778,
              "#fb9f3a"
             ],
             [
              0.8888888888888888,
              "#fdca26"
             ],
             [
              1,
              "#f0f921"
             ]
            ],
            "type": "histogram2dcontour"
           }
          ],
          "mesh3d": [
           {
            "colorbar": {
             "outlinewidth": 0,
             "ticks": ""
            },
            "type": "mesh3d"
           }
          ],
          "parcoords": [
           {
            "line": {
             "colorbar": {
              "outlinewidth": 0,
              "ticks": ""
             }
            },
            "type": "parcoords"
           }
          ],
          "pie": [
           {
            "automargin": true,
            "type": "pie"
           }
          ],
          "scatter": [
           {
            "fillpattern": {
             "fillmode": "overlay",
             "size": 10,
             "solidity": 0.2
            },
            "type": "scatter"
           }
          ],
          "scatter3d": [
           {
            "line": {
             "colorbar": {
              "outlinewidth": 0,
              "ticks": ""
             }
            },
            "marker": {
             "colorbar": {
              "outlinewidth": 0,
              "ticks": ""
             }
            },
            "type": "scatter3d"
           }
          ],
          "scattercarpet": [
           {
            "marker": {
             "colorbar": {
              "outlinewidth": 0,
              "ticks": ""
             }
            },
            "type": "scattercarpet"
           }
          ],
          "scattergeo": [
           {
            "marker": {
             "colorbar": {
              "outlinewidth": 0,
              "ticks": ""
             }
            },
            "type": "scattergeo"
           }
          ],
          "scattergl": [
           {
            "marker": {
             "colorbar": {
              "outlinewidth": 0,
              "ticks": ""
             }
            },
            "type": "scattergl"
           }
          ],
          "scattermapbox": [
           {
            "marker": {
             "colorbar": {
              "outlinewidth": 0,
              "ticks": ""
             }
            },
            "type": "scattermapbox"
           }
          ],
          "scatterpolar": [
           {
            "marker": {
             "colorbar": {
              "outlinewidth": 0,
              "ticks": ""
             }
            },
            "type": "scatterpolar"
           }
          ],
          "scatterpolargl": [
           {
            "marker": {
             "colorbar": {
              "outlinewidth": 0,
              "ticks": ""
             }
            },
            "type": "scatterpolargl"
           }
          ],
          "scatterternary": [
           {
            "marker": {
             "colorbar": {
              "outlinewidth": 0,
              "ticks": ""
             }
            },
            "type": "scatterternary"
           }
          ],
          "surface": [
           {
            "colorbar": {
             "outlinewidth": 0,
             "ticks": ""
            },
            "colorscale": [
             [
              0,
              "#0d0887"
             ],
             [
              0.1111111111111111,
              "#46039f"
             ],
             [
              0.2222222222222222,
              "#7201a8"
             ],
             [
              0.3333333333333333,
              "#9c179e"
             ],
             [
              0.4444444444444444,
              "#bd3786"
             ],
             [
              0.5555555555555556,
              "#d8576b"
             ],
             [
              0.6666666666666666,
              "#ed7953"
             ],
             [
              0.7777777777777778,
              "#fb9f3a"
             ],
             [
              0.8888888888888888,
              "#fdca26"
             ],
             [
              1,
              "#f0f921"
             ]
            ],
            "type": "surface"
           }
          ],
          "table": [
           {
            "cells": {
             "fill": {
              "color": "#EBF0F8"
             },
             "line": {
              "color": "white"
             }
            },
            "header": {
             "fill": {
              "color": "#C8D4E3"
             },
             "line": {
              "color": "white"
             }
            },
            "type": "table"
           }
          ]
         },
         "layout": {
          "annotationdefaults": {
           "arrowcolor": "#2a3f5f",
           "arrowhead": 0,
           "arrowwidth": 1
          },
          "autotypenumbers": "strict",
          "coloraxis": {
           "colorbar": {
            "outlinewidth": 0,
            "ticks": ""
           }
          },
          "colorscale": {
           "diverging": [
            [
             0,
             "#8e0152"
            ],
            [
             0.1,
             "#c51b7d"
            ],
            [
             0.2,
             "#de77ae"
            ],
            [
             0.3,
             "#f1b6da"
            ],
            [
             0.4,
             "#fde0ef"
            ],
            [
             0.5,
             "#f7f7f7"
            ],
            [
             0.6,
             "#e6f5d0"
            ],
            [
             0.7,
             "#b8e186"
            ],
            [
             0.8,
             "#7fbc41"
            ],
            [
             0.9,
             "#4d9221"
            ],
            [
             1,
             "#276419"
            ]
           ],
           "sequential": [
            [
             0,
             "#0d0887"
            ],
            [
             0.1111111111111111,
             "#46039f"
            ],
            [
             0.2222222222222222,
             "#7201a8"
            ],
            [
             0.3333333333333333,
             "#9c179e"
            ],
            [
             0.4444444444444444,
             "#bd3786"
            ],
            [
             0.5555555555555556,
             "#d8576b"
            ],
            [
             0.6666666666666666,
             "#ed7953"
            ],
            [
             0.7777777777777778,
             "#fb9f3a"
            ],
            [
             0.8888888888888888,
             "#fdca26"
            ],
            [
             1,
             "#f0f921"
            ]
           ],
           "sequentialminus": [
            [
             0,
             "#0d0887"
            ],
            [
             0.1111111111111111,
             "#46039f"
            ],
            [
             0.2222222222222222,
             "#7201a8"
            ],
            [
             0.3333333333333333,
             "#9c179e"
            ],
            [
             0.4444444444444444,
             "#bd3786"
            ],
            [
             0.5555555555555556,
             "#d8576b"
            ],
            [
             0.6666666666666666,
             "#ed7953"
            ],
            [
             0.7777777777777778,
             "#fb9f3a"
            ],
            [
             0.8888888888888888,
             "#fdca26"
            ],
            [
             1,
             "#f0f921"
            ]
           ]
          },
          "colorway": [
           "#636efa",
           "#EF553B",
           "#00cc96",
           "#ab63fa",
           "#FFA15A",
           "#19d3f3",
           "#FF6692",
           "#B6E880",
           "#FF97FF",
           "#FECB52"
          ],
          "font": {
           "color": "#2a3f5f"
          },
          "geo": {
           "bgcolor": "white",
           "lakecolor": "white",
           "landcolor": "#E5ECF6",
           "showlakes": true,
           "showland": true,
           "subunitcolor": "white"
          },
          "hoverlabel": {
           "align": "left"
          },
          "hovermode": "closest",
          "mapbox": {
           "style": "light"
          },
          "paper_bgcolor": "white",
          "plot_bgcolor": "#E5ECF6",
          "polar": {
           "angularaxis": {
            "gridcolor": "white",
            "linecolor": "white",
            "ticks": ""
           },
           "bgcolor": "#E5ECF6",
           "radialaxis": {
            "gridcolor": "white",
            "linecolor": "white",
            "ticks": ""
           }
          },
          "scene": {
           "xaxis": {
            "backgroundcolor": "#E5ECF6",
            "gridcolor": "white",
            "gridwidth": 2,
            "linecolor": "white",
            "showbackground": true,
            "ticks": "",
            "zerolinecolor": "white"
           },
           "yaxis": {
            "backgroundcolor": "#E5ECF6",
            "gridcolor": "white",
            "gridwidth": 2,
            "linecolor": "white",
            "showbackground": true,
            "ticks": "",
            "zerolinecolor": "white"
           },
           "zaxis": {
            "backgroundcolor": "#E5ECF6",
            "gridcolor": "white",
            "gridwidth": 2,
            "linecolor": "white",
            "showbackground": true,
            "ticks": "",
            "zerolinecolor": "white"
           }
          },
          "shapedefaults": {
           "line": {
            "color": "#2a3f5f"
           }
          },
          "ternary": {
           "aaxis": {
            "gridcolor": "white",
            "linecolor": "white",
            "ticks": ""
           },
           "baxis": {
            "gridcolor": "white",
            "linecolor": "white",
            "ticks": ""
           },
           "bgcolor": "#E5ECF6",
           "caxis": {
            "gridcolor": "white",
            "linecolor": "white",
            "ticks": ""
           }
          },
          "title": {
           "x": 0.05
          },
          "xaxis": {
           "automargin": true,
           "gridcolor": "white",
           "linecolor": "white",
           "ticks": "",
           "title": {
            "standoff": 15
           },
           "zerolinecolor": "white",
           "zerolinewidth": 2
          },
          "yaxis": {
           "automargin": true,
           "gridcolor": "white",
           "linecolor": "white",
           "ticks": "",
           "title": {
            "standoff": 15
           },
           "zerolinecolor": "white",
           "zerolinewidth": 2
          }
         }
        },
        "title": {
         "text": "Torch K = 10"
        },
        "width": 1800,
        "xaxis": {
         "anchor": "y",
         "domain": [
          0,
          0.16799999999999998
         ]
        },
        "xaxis2": {
         "anchor": "y2",
         "domain": [
          0.208,
          0.376
         ]
        },
        "xaxis3": {
         "anchor": "y3",
         "domain": [
          0.416,
          0.584
         ]
        },
        "xaxis4": {
         "anchor": "y4",
         "domain": [
          0.624,
          0.792
         ]
        },
        "xaxis5": {
         "anchor": "y5",
         "domain": [
          0.832,
          1
         ]
        },
        "yaxis": {
         "anchor": "x",
         "domain": [
          0,
          1
         ]
        },
        "yaxis2": {
         "anchor": "x2",
         "domain": [
          0,
          1
         ],
         "matches": "y",
         "showticklabels": false
        },
        "yaxis3": {
         "anchor": "x3",
         "domain": [
          0,
          1
         ],
         "matches": "y",
         "showticklabels": false
        },
        "yaxis4": {
         "anchor": "x4",
         "domain": [
          0,
          1
         ],
         "matches": "y",
         "showticklabels": false
        },
        "yaxis5": {
         "anchor": "x5",
         "domain": [
          0,
          1
         ],
         "matches": "y",
         "showticklabels": false
        }
       }
      }
     },
     "metadata": {},
     "output_type": "display_data"
    }
   ],
   "source": [
    "from plotly.subplots import make_subplots\n",
    "import plotly.graph_objects as go\n",
    "\n",
    "#choose one of the two \n",
    "#Torch 10: [1,4,5,8,9]\n",
    "#HMM 10: [1,4]\n",
    "\n",
    "Significant = [1,4,5,8,9]\n",
    "\n",
    "fig = make_subplots(rows=1, cols=len(Significant),\n",
    "                        shared_yaxes=True,\n",
    "                        subplot_titles=([f\"Centorid {i+1}\" for i in Significant]))\n",
    "\n",
    "\n",
    "j = 1\n",
    "for i in Significant :\n",
    "    fig.add_trace(go.Bar(\n",
    "                    y=label,\n",
    "                    x=mus[:,i],\n",
    "                    orientation='h'),\n",
    "                    1,j)\n",
    "    j +=1 \n",
    "\n",
    "\n",
    "\n",
    "fig.update_layout(height=1500, width=(len(Significant)+1)*300,\n",
    "                    title_text=\"Torch K = 10\",\n",
    "                    showlegend=False)\n",
    "fig.show()"
   ]
  },
  {
   "cell_type": "code",
   "execution_count": null,
   "metadata": {
    "pycharm": {
     "name": "#%%\n"
    }
   },
   "outputs": [],
   "source": []
  }
 ],
 "metadata": {
  "kernelspec": {
   "display_name": "Python 3 (ipykernel)",
   "language": "python",
   "name": "python3"
  },
  "language_info": {
   "codemirror_mode": {
    "name": "ipython",
    "version": 3
   },
   "file_extension": ".py",
   "mimetype": "text/x-python",
   "name": "python",
   "nbconvert_exporter": "python",
   "pygments_lexer": "ipython3",
   "version": "3.10.8"
  },
  "vscode": {
   "interpreter": {
    "hash": "40d3a090f54c6569ab1632332b64b2c03c39dcf918b08424e98f38b5ae0af88f"
   }
  }
 },
 "nbformat": 4,
 "nbformat_minor": 2
}
