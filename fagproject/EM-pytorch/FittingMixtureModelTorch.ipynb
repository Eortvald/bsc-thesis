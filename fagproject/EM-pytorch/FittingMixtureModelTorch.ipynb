{
 "cells": [
  {
   "cell_type": "code",
   "execution_count": 5,
   "metadata": {
    "pycharm": {
     "name": "#%%\n"
    }
   },
   "outputs": [],
   "source": [
    "# Loading Data and Packages\n",
    "import pickle\n",
    "import plotly.express as px\n",
    "import pandas as pd\n",
    "import numpy as np\n",
    "import torch\n",
    "import LogLikelihoodTorch \n",
    "\n",
    "with open('.DataPhase.pickle','rb') as f:\n",
    "    X = pickle.load(f)\n",
    "torch.set_default_dtype(torch.float64)\n",
    "X_tensor = torch.from_numpy(X).to(torch.float64)\n"
   ]
  },
  {
   "cell_type": "code",
   "execution_count": 6,
   "metadata": {
    "pycharm": {
     "name": "#%%\n"
    }
   },
   "outputs": [],
   "source": [
    "# Setting Up Parameters For Fitting of K Multivariate Watson Distributions\n",
    "\n",
    "K = 20\n",
    "p = 90\n",
    "\n",
    "pi,kappa,mu = LogLikelihoodTorch.Initialize(p=p,K=K)"
   ]
  },
  {
   "cell_type": "code",
   "execution_count": 7,
   "metadata": {
    "pycharm": {
     "name": "#%%\n"
    }
   },
   "outputs": [
    {
     "name": "stdout",
     "output_type": "stream",
     "text": [
      "epoch 1; Log-Likelihood = -5529652.365761858\n",
      "epoch 101; Log-Likelihood = -6509269.758543719\n",
      "epoch 201; Log-Likelihood = -6542135.646763592\n",
      "epoch 301; Log-Likelihood = -6596549.271866877\n",
      "epoch 401; Log-Likelihood = -6682033.8362207115\n",
      "epoch 501; Log-Likelihood = -6762799.593402563\n",
      "epoch 601; Log-Likelihood = -6879933.802083765\n",
      "epoch 701; Log-Likelihood = -6991868.111511031\n",
      "epoch 801; Log-Likelihood = -7103248.854399673\n",
      "epoch 901; Log-Likelihood = -7193845.582763798\n",
      "epoch 1001; Log-Likelihood = -7304171.038505571\n",
      "epoch 1101; Log-Likelihood = -7388338.957130528\n",
      "epoch 1201; Log-Likelihood = -7475888.93098223\n",
      "epoch 1301; Log-Likelihood = -7508765.684310729\n",
      "epoch 1401; Log-Likelihood = -7537043.823000469\n",
      "epoch 1501; Log-Likelihood = -7571084.607329209\n",
      "epoch 1601; Log-Likelihood = -7612805.097816318\n",
      "epoch 1701; Log-Likelihood = -7647065.328137942\n",
      "epoch 1801; Log-Likelihood = -7668335.963401805\n",
      "epoch 1901; Log-Likelihood = -7675416.232917366\n",
      "epoch 2001; Log-Likelihood = -7678845.714533412\n",
      "epoch 2101; Log-Likelihood = -7685907.114711337\n",
      "epoch 2201; Log-Likelihood = -7696204.178389078\n",
      "epoch 2301; Log-Likelihood = -7708640.886168589\n",
      "epoch 2401; Log-Likelihood = -7722415.106723858\n",
      "epoch 2501; Log-Likelihood = -7737133.47375773\n",
      "epoch 2601; Log-Likelihood = -7753299.056903831\n",
      "epoch 2701; Log-Likelihood = -7771369.300444662\n",
      "epoch 2801; Log-Likelihood = -7782403.317377753\n",
      "epoch 2901; Log-Likelihood = -7782416.2825982915\n"
     ]
    }
   ],
   "source": [
    "\n",
    "learning_rate = 1\n",
    "n_iters = 3000\n",
    "\n",
    "#torch.autograd.set_detect_anomaly(False)\n",
    "Parameters = [\n",
    "    {'params':pi},\n",
    "    {'params':kappa},\n",
    "    {'params':mu}\n",
    "]\n",
    "\n",
    "Adam = torch.optim.Adam(Parameters,lr=learning_rate)\n"
   ]
  },
  {
   "cell_type": "code",
   "execution_count": 4,
   "metadata": {
    "pycharm": {
     "name": "#%%\n"
    }
   },
   "outputs": [],
   "source": [
    "# Optimizing Distribution:\n",
    "Pi_fit,Kappa_fit,mu_fit = LogLikelihoodTorch.Optimizationloop(X_tensor,[pi,kappa,mu],lose=LogLikelihoodTorch.log_likelihood,Optimizer=Adam,n_iters=n_iters,K=K)"
   ]
  },
  {
   "cell_type": "code",
   "execution_count": null,
   "metadata": {
    "pycharm": {
     "name": "#%%\n"
    }
   },
   "outputs": [],
   "source": [
    "# Contraining Parameters and Saving Fitted Model\n",
    "Softmax = torch.nn.Softmax(0)\n",
    "Softplus = torch.nn.Softplus()\n",
    "\n",
    "pi_est = Softmax(Pi_fit)\n",
    "kappa_est = Softplus(Kappa_fit)\n",
    "mu_est = mu /torch.sqrt((mu_fit * mu_fit).sum(axis=0))\n",
    "\n",
    "with open('Torch_K=7.pickle','wb') as f:\n",
    "    pickle.dump([pi_est,kappa_est,mu_est], f)"
   ]
  }
 ],
 "metadata": {
  "kernelspec": {
   "display_name": "Python 3 (ipykernel)",
   "language": "python",
   "name": "python3"
  },
  "language_info": {
   "codemirror_mode": {
    "name": "ipython",
    "version": 3
   },
   "file_extension": ".py",
   "mimetype": "text/x-python",
   "name": "python",
   "nbconvert_exporter": "python",
   "pygments_lexer": "ipython3",
   "version": "3.10.4"
  },
  "vscode": {
   "interpreter": {
    "hash": "31d7989649452b8ff5b252a3e34caf45e4ffd8a5787fe28fc2ce0245f11b7782"
   }
  }
 },
 "nbformat": 4,
 "nbformat_minor": 2
}