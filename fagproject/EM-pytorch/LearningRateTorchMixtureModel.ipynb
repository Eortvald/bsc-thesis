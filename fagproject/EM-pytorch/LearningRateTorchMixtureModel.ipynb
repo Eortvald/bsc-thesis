{
 "cells": [
  {
   "cell_type": "code",
   "execution_count": 1,
   "metadata": {},
   "outputs": [],
   "source": [
    "# Loading data and \n",
    "import pickle\n",
    "import plotly.express as px\n",
    "import pandas as pd\n",
    "import numpy as np\n",
    "import torch\n",
    "from LogLikelihoodTorch import log_likelihood,Optimizationloop, Initialize,log_likelihood_eval,OptimizationTraj\n",
    "with open('.DataPhase.pickle','rb') as f:\n",
    "    X = pickle.load(f)\n",
    "torch.set_default_dtype(torch.float64)\n",
    "X_tensor = torch.from_numpy(X).to(torch.float64)"
   ]
  },
  {
   "cell_type": "code",
   "execution_count": null,
   "metadata": {},
   "outputs": [],
   "source": [
    "# Setting up plot standards\n",
    "import plotly.express as px\n",
    "import plotly.io as pio\n",
    "\n",
    "pio.templates.default = \"simple_white\"\n",
    "\n",
    "px.defaults.template = \"plotly_white\"\n",
    "px.defaults.color_continuous_scale = px.colors.sequential.Blackbody\n",
    "px.defaults.color_discrete_sequence = px.colors.qualitative.G10\n",
    "px.defaults.width = 800\n",
    "px.defaults.height = 600\n"
   ]
  },
  {
   "cell_type": "code",
   "execution_count": null,
   "metadata": {},
   "outputs": [],
   "source": [
    "# Estimating Likelihood trajectory for each learning rate\n",
    "n_iters = 3000\n",
    "LearningRates = [0.1,0.5,0.8,1,1.2,1.5]\n",
    "Likelihoods = np.zeros((len(LearningRates),n_iters))\n",
    "\n",
    "for idx,lr in enumerate(LearningRates):\n",
    "    print(lr)\n",
    "    pi,kappa,mu = Initialize(p=p,K=K)\n",
    "    Parameters = [\n",
    "        {'params':pi},\n",
    "        {'params':kappa},\n",
    "        {'params':mu}\n",
    "    ]\n",
    "    Adam = torch.optim.Adam(Parameters,lr=lr)\n",
    "    Likelihoods[idx,:] = OptimizationTraj(X_tensor,[pi,kappa,mu],lose=log_likelihood,Optimizer=Adam,n_iters=n_iters,K=K)"
   ]
  },
  {
   "cell_type": "code",
   "execution_count": null,
   "metadata": {},
   "outputs": [],
   "source": [
    "# Setup Dataframe for plotting\n",
    "TrajectoryData = pd.DataFrame()\n",
    "for idx,lr in enumerate(LearningRates):\n",
    "    TrajectoryData[f'lr= {lr}'] = Likelihoods[idx,:]\n",
    "\n",
    "fig=px.line(TrajectoryData,\n",
    "color_discrete_sequence=px.colors.qualitative.G10\n",
    ")\n",
    "fig.update_layout(\n",
    "    title=\"Learning Rate Evaluations\",\n",
    "    width=800,height=600,\n",
    "    legend={'title':\"Learning Rates\"}\n",
    "    #template=\"plotly_white\",\n",
    ")\n",
    "fig.update_yaxes(\n",
    "    title=\"log-Likelihood\"\n",
    ")\n",
    "fig.update_xaxes(\n",
    "    title=\"Epoch\"\n",
    ")\n",
    "\n",
    "fig.show()"
   ]
  }
 ],
 "metadata": {
  "kernelspec": {
   "display_name": "Python 3.8.8 ('base')",
   "language": "python",
   "name": "python3"
  },
  "language_info": {
   "codemirror_mode": {
    "name": "ipython",
    "version": 3
   },
   "file_extension": ".py",
   "mimetype": "text/x-python",
   "name": "python",
   "nbconvert_exporter": "python",
   "pygments_lexer": "ipython3",
   "version": "3.8.8"
  },
  "orig_nbformat": 4,
  "vscode": {
   "interpreter": {
    "hash": "40d3a090f54c6569ab1632332b64b2c03c39dcf918b08424e98f38b5ae0af88f"
   }
  }
 },
 "nbformat": 4,
 "nbformat_minor": 2
}
